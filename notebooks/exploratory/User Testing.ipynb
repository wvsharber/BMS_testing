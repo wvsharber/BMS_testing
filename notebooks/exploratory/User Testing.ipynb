{
 "cells": [
  {
   "cell_type": "markdown",
   "metadata": {},
   "source": [
    "# User Testing Planning/Coding Notebook\n",
    "\n",
    "### Objectives:\n",
    "- Plan user testing\n",
    "- Code scripts to generate test maps:\n",
    "    - Randomly pull maps/music from 30 songs with maps for all difficulty levels from Beat Saver (tried all >70% rating but not enough were rated)\n",
    "    - Strip obstacles/lighting events from human made maps and set background environment all the same\n",
    "    - Map all songs with each model type\n",
    "    - Automatically categorize songs/beat structure?\n",
    "- For each user/volunteer:\n",
    "    - Randomly assign Random, HMM, Segmented HMM, Rate-Seg HMM, or Human-made\n",
    "    - Record email address, user-ID, and assigned map information (song, model/human, difficulty) in pd DataFrame\n",
    "    - Send assignment to user    "
   ]
  },
  {
   "cell_type": "code",
   "execution_count": 27,
   "metadata": {},
   "outputs": [],
   "source": [
    "import pandas as pd\n",
    "import numpy as np\n",
    "import json\n",
    "import requests\n",
    "import zipfile\n",
    "from io import BytesIO\n",
    "import pickle\n",
    "import src.beatmapsynth"
   ]
  },
  {
   "cell_type": "code",
   "execution_count": 2,
   "metadata": {},
   "outputs": [],
   "source": [
    "with open(\"../../data/metadata.pkl\", 'rb') as file:\n",
    "    metadata = pickle.load(file)"
   ]
  },
  {
   "cell_type": "code",
   "execution_count": 3,
   "metadata": {},
   "outputs": [],
   "source": [
    "potential_songs = []\n",
    "\n",
    "for x in metadata:\n",
    "    if all(value == True for value in x['metadata']['difficulties'].values()):\n",
    "        potential_songs.append(x)"
   ]
  },
  {
   "cell_type": "code",
   "execution_count": 4,
   "metadata": {},
   "outputs": [
    {
     "data": {
      "text/plain": [
       "556"
      ]
     },
     "execution_count": 4,
     "metadata": {},
     "output_type": "execute_result"
    }
   ],
   "source": [
    "len(potential_songs)"
   ]
  },
  {
   "cell_type": "code",
   "execution_count": 5,
   "metadata": {},
   "outputs": [],
   "source": [
    "test_songs = np.random.choice(potential_songs, 30, replace = False)"
   ]
  },
  {
   "cell_type": "markdown",
   "metadata": {},
   "source": [
    "For each test song in the list:\n",
    "1. Download with key and unzip\n",
    "2. For each difficulty level:\n",
    "    - Map with each model\n",
    "    - Edit/strip human map\n",
    "    - Save zip folder"
   ]
  },
  {
   "cell_type": "code",
   "execution_count": 6,
   "metadata": {},
   "outputs": [],
   "source": [
    "keys = []\n",
    "for x in test_songs:\n",
    "    keys.append(x['key'])"
   ]
  },
  {
   "cell_type": "code",
   "execution_count": 7,
   "metadata": {},
   "outputs": [],
   "source": [
    "def open_map_file(difficulty):\n",
    "    \"\"\"This function opens the map file listed in the info.dat file for the specificed difficulty level.\"\"\"\n",
    "    with open('./temp/info.dat', 'rb') as i:\n",
    "        info = json.load(i)\n",
    "    for x in info['_difficultyBeatmapSets']:\n",
    "        if x['_beatmapCharacteristicName'] == 'Standard':\n",
    "            for y in x['_difficultyBeatmaps']:\n",
    "                if y['_difficulty'] == difficulty:\n",
    "                    file_name = y['_beatmapFilename']\n",
    "                    with open(f\"./temp/{file_name}\", 'rb') as f:\n",
    "                        map_file = json.load(f)\n",
    "                \n",
    "    return map_file"
   ]
  },
  {
   "cell_type": "code",
   "execution_count": 8,
   "metadata": {},
   "outputs": [],
   "source": [
    "def download_song_and_map(key):\n",
    "    \"\"\"Downloads the zipped folder of song and mapping data from the beatsaber api. Extracts files to a 'temp' folder \n",
    "    in the local directory.\"\"\"\n",
    "    response = requests.get(f\"https://beatsaver.com/api/download/key/{key}\")\n",
    "    if response.status_code == 200:\n",
    "        content_as_file = BytesIO(response.content)\n",
    "        zip_file = ZipFile(content_as_file)\n",
    "        for x in zip_file.filelist:\n",
    "            print(zip_file.extract(x.filename, path = 'temp'))\n",
    "        return response.status_code\n",
    "    else:\n",
    "        return print(f\"API call failed at {key} with error code {response.status_code}\")"
   ]
  },
  {
   "cell_type": "code",
   "execution_count": 14,
   "metadata": {},
   "outputs": [
    {
     "name": "stdout",
     "output_type": "stream",
     "text": [
      "API call failed at 501f with error code 403\n"
     ]
    }
   ],
   "source": [
    "download_song_and_map(keys[0])"
   ]
  },
  {
   "cell_type": "markdown",
   "metadata": {},
   "source": [
    "Requests isn't working. Used Bash in terminal and wget to download zip folders instead."
   ]
  },
  {
   "cell_type": "code",
   "execution_count": 17,
   "metadata": {},
   "outputs": [],
   "source": [
    "with open(\"../../data/raw/keys.txt\", 'w') as w:\n",
    "    w.write(str(keys))"
   ]
  },
  {
   "cell_type": "markdown",
   "metadata": {},
   "source": [
    "Needed a few extra keys, three keys didn't work anymore."
   ]
  },
  {
   "cell_type": "code",
   "execution_count": 21,
   "metadata": {},
   "outputs": [],
   "source": [
    "extra = np.random.choice(potential_songs, 3, replace = False)"
   ]
  },
  {
   "cell_type": "code",
   "execution_count": 22,
   "metadata": {},
   "outputs": [],
   "source": [
    "extra_keys = []\n",
    "for x in extra:\n",
    "    extra_keys.append(x['key'])"
   ]
  },
  {
   "cell_type": "code",
   "execution_count": 23,
   "metadata": {},
   "outputs": [
    {
     "data": {
      "text/plain": [
       "['1ff6', '4f00', '2f1d']"
      ]
     },
     "execution_count": 23,
     "metadata": {},
     "output_type": "execute_result"
    }
   ],
   "source": [
    "extra_keys"
   ]
  },
  {
   "cell_type": "code",
   "execution_count": 24,
   "metadata": {},
   "outputs": [],
   "source": [
    "for x in extra_keys:\n",
    "    keys.append(x)"
   ]
  },
  {
   "cell_type": "code",
   "execution_count": 32,
   "metadata": {},
   "outputs": [
    {
     "name": "stdout",
     "output_type": "stream",
     "text": [
      "temp/cover.jpg\n",
      "temp/ExpertPlus.dat\n",
      "temp/Expert.dat\n",
      "temp/Hard.dat\n",
      "temp/Normal.dat\n",
      "temp/Easy.dat\n",
      "temp/song.egg\n",
      "temp/info.dat\n"
     ]
    }
   ],
   "source": [
    "with open(\"../../data/raw/501f\", 'rb') as zipfolder:\n",
    "    zip_file = zipfile.ZipFile(zipfolder)\n",
    "    for x in zip_file.filelist:\n",
    "        print(zip_file.extract(x.filename, path = 'temp'))"
   ]
  },
  {
   "cell_type": "code",
   "execution_count": 34,
   "metadata": {},
   "outputs": [],
   "source": [
    "easy = open_map_file('Easy')"
   ]
  },
  {
   "cell_type": "code",
   "execution_count": 36,
   "metadata": {},
   "outputs": [
    {
     "data": {
      "text/plain": [
       "dict_keys(['_version', '_BPMChanges', '_events', '_notes', '_obstacles', '_bookmarks'])"
      ]
     },
     "execution_count": 36,
     "metadata": {},
     "output_type": "execute_result"
    }
   ],
   "source": [
    "easy.keys()"
   ]
  },
  {
   "cell_type": "code",
   "execution_count": 37,
   "metadata": {},
   "outputs": [],
   "source": [
    "easy['_events'] = []"
   ]
  },
  {
   "cell_type": "code",
   "execution_count": 38,
   "metadata": {},
   "outputs": [],
   "source": [
    "easy['_obstacles'] = []"
   ]
  },
  {
   "cell_type": "code",
   "execution_count": 40,
   "metadata": {},
   "outputs": [],
   "source": [
    "easy['_bookmarks'] = []"
   ]
  },
  {
   "cell_type": "code",
   "execution_count": 43,
   "metadata": {},
   "outputs": [],
   "source": [
    "with open('./temp/info.dat', 'rb') as i:\n",
    "    info = json.load(i)"
   ]
  },
  {
   "cell_type": "code",
   "execution_count": 44,
   "metadata": {},
   "outputs": [
    {
     "data": {
      "text/plain": [
       "{'_version': '2.0.0',\n",
       " '_songName': 'Calling',\n",
       " '_songSubName': '',\n",
       " '_songAuthorName': 'Zekk',\n",
       " '_levelAuthorName': 'Hyunchen',\n",
       " '_beatsPerMinute': 180,\n",
       " '_songTimeOffset': 0,\n",
       " '_shuffle': 0,\n",
       " '_shufflePeriod': 0.5,\n",
       " '_previewStartTime': 12,\n",
       " '_previewDuration': 10,\n",
       " '_songFilename': 'song.egg',\n",
       " '_coverImageFilename': 'cover.jpg',\n",
       " '_environmentName': 'NiceEnvironment',\n",
       " '_customData': {'_contributors': [],\n",
       "  '_customEnvironment': '',\n",
       "  '_customEnvironmentHash': ''},\n",
       " '_difficultyBeatmapSets': [{'_beatmapCharacteristicName': 'Standard',\n",
       "   '_difficultyBeatmaps': [{'_difficulty': 'Easy',\n",
       "     '_difficultyRank': 1,\n",
       "     '_beatmapFilename': 'Easy.dat',\n",
       "     '_noteJumpMovementSpeed': 12,\n",
       "     '_noteJumpStartBeatOffset': 0,\n",
       "     '_customData': {'_difficultyLabel': '',\n",
       "      '_editorOffset': 0,\n",
       "      '_editorOldOffset': 0,\n",
       "      '_warnings': [],\n",
       "      '_information': [],\n",
       "      '_suggestions': [],\n",
       "      '_requirements': []}},\n",
       "    {'_difficulty': 'Normal',\n",
       "     '_difficultyRank': 3,\n",
       "     '_beatmapFilename': 'Normal.dat',\n",
       "     '_noteJumpMovementSpeed': 13,\n",
       "     '_noteJumpStartBeatOffset': 0,\n",
       "     '_customData': {'_difficultyLabel': '',\n",
       "      '_editorOffset': 0,\n",
       "      '_editorOldOffset': 0,\n",
       "      '_warnings': [],\n",
       "      '_information': [],\n",
       "      '_suggestions': [],\n",
       "      '_requirements': []}},\n",
       "    {'_difficulty': 'Hard',\n",
       "     '_difficultyRank': 5,\n",
       "     '_beatmapFilename': 'Hard.dat',\n",
       "     '_noteJumpMovementSpeed': 14,\n",
       "     '_noteJumpStartBeatOffset': 0,\n",
       "     '_customData': {'_difficultyLabel': '',\n",
       "      '_editorOffset': 0,\n",
       "      '_editorOldOffset': 0,\n",
       "      '_warnings': [],\n",
       "      '_information': [],\n",
       "      '_suggestions': [],\n",
       "      '_requirements': []}},\n",
       "    {'_difficulty': 'Expert',\n",
       "     '_difficultyRank': 7,\n",
       "     '_beatmapFilename': 'Expert.dat',\n",
       "     '_noteJumpMovementSpeed': 17,\n",
       "     '_noteJumpStartBeatOffset': 0,\n",
       "     '_customData': {'_difficultyLabel': '',\n",
       "      '_editorOffset': 0,\n",
       "      '_editorOldOffset': 0,\n",
       "      '_warnings': [],\n",
       "      '_information': [],\n",
       "      '_suggestions': [],\n",
       "      '_requirements': []}},\n",
       "    {'_difficulty': 'ExpertPlus',\n",
       "     '_difficultyRank': 9,\n",
       "     '_beatmapFilename': 'ExpertPlus.dat',\n",
       "     '_noteJumpMovementSpeed': 19,\n",
       "     '_noteJumpStartBeatOffset': 0,\n",
       "     '_customData': {'_difficultyLabel': 'Nami',\n",
       "      '_editorOffset': 0,\n",
       "      '_editorOldOffset': 0,\n",
       "      '_warnings': [],\n",
       "      '_information': [],\n",
       "      '_suggestions': [],\n",
       "      '_requirements': []}}]}]}"
      ]
     },
     "execution_count": 44,
     "metadata": {},
     "output_type": "execute_result"
    }
   ],
   "source": [
    "info"
   ]
  },
  {
   "cell_type": "code",
   "execution_count": null,
   "metadata": {},
   "outputs": [],
   "source": []
  }
 ],
 "metadata": {
  "kernelspec": {
   "display_name": "Python 3.6.9 64-bit ('BSMapSynth-env': conda)",
   "language": "python",
   "name": "python36964bitbsmapsynthenvconda13e77a131ab249d0905cca83e6a4f89f"
  },
  "language_info": {
   "codemirror_mode": {
    "name": "ipython",
    "version": 3
   },
   "file_extension": ".py",
   "mimetype": "text/x-python",
   "name": "python",
   "nbconvert_exporter": "python",
   "pygments_lexer": "ipython3",
   "version": "3.6.9"
  }
 },
 "nbformat": 4,
 "nbformat_minor": 4
}
