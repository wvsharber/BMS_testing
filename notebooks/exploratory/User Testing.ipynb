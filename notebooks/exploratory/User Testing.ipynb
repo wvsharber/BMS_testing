{
 "cells": [
  {
   "cell_type": "markdown",
   "metadata": {},
   "source": [
    "# User Testing Planning/Coding Notebook\n",
    "\n",
    "### Objectives:\n",
    "- Plan user testing\n",
    "- Code scripts to generate test maps:\n",
    "    - Randomly pull maps/music from 30 songs with maps for all difficulty levels from Beat Saver (tried all >70% rating but not enough were rated)\n",
    "    - Strip obstacles/lighting events from human made maps and set background environment all the same\n",
    "    - Map all songs with each model type\n",
    "    - Automatically categorize songs/beat structure?\n",
    "- For each user/volunteer:\n",
    "    - Randomly assign Random, HMM, Segmented HMM, Rate-Seg HMM, or Human-made\n",
    "    - Record email address, user-ID, and assigned map information (song, model/human, difficulty) in pd DataFrame\n",
    "    - Send assignment to user    "
   ]
  },
  {
   "cell_type": "code",
   "execution_count": 54,
   "metadata": {},
   "outputs": [],
   "source": [
    "import pandas as pd\n",
    "import numpy as np\n",
    "import json\n",
    "import requests\n",
    "import zipfile\n",
    "from io import BytesIO\n",
    "import pickle\n",
    "import src.beatmapsynth as bms\n",
    "import os"
   ]
  },
  {
   "cell_type": "code",
   "execution_count": 2,
   "metadata": {},
   "outputs": [],
   "source": [
    "with open(\"../../data/metadata.pkl\", 'rb') as file:\n",
    "    metadata = pickle.load(file)"
   ]
  },
  {
   "cell_type": "code",
   "execution_count": 3,
   "metadata": {},
   "outputs": [],
   "source": [
    "potential_songs = []\n",
    "\n",
    "for x in metadata:\n",
    "    if all(value == True for value in x['metadata']['difficulties'].values()):\n",
    "        potential_songs.append(x)"
   ]
  },
  {
   "cell_type": "code",
   "execution_count": 4,
   "metadata": {},
   "outputs": [
    {
     "data": {
      "text/plain": [
       "556"
      ]
     },
     "execution_count": 4,
     "metadata": {},
     "output_type": "execute_result"
    }
   ],
   "source": [
    "len(potential_songs)"
   ]
  },
  {
   "cell_type": "code",
   "execution_count": 5,
   "metadata": {},
   "outputs": [],
   "source": [
    "test_songs = np.random.choice(potential_songs, 30, replace = False)"
   ]
  },
  {
   "cell_type": "markdown",
   "metadata": {},
   "source": [
    "For each test song in the list:\n",
    "1. Download with key and unzip\n",
    "2. For each difficulty level:\n",
    "    - Map with each model\n",
    "    - Edit/strip human map\n",
    "    - Save zip folder"
   ]
  },
  {
   "cell_type": "code",
   "execution_count": 6,
   "metadata": {},
   "outputs": [],
   "source": [
    "keys = []\n",
    "for x in test_songs:\n",
    "    keys.append(x['key'])"
   ]
  },
  {
   "cell_type": "code",
   "execution_count": 59,
   "metadata": {},
   "outputs": [],
   "source": [
    "def open_map_file(difficulty):\n",
    "    \"\"\"This function opens the map file listed in the info.dat file for the specificed difficulty level.\"\"\"\n",
    "    with open('./temp/info.dat', 'rb') as i:\n",
    "        info = json.load(i)\n",
    "    for x in info['_difficultyBeatmapSets']:\n",
    "        if x['_beatmapCharacteristicName'] == 'Standard':\n",
    "            for y in x['_difficultyBeatmaps']:\n",
    "                if y['_difficulty'].casefold() == difficulty.casefold():\n",
    "                    file_name = y['_beatmapFilename']\n",
    "                    with open(f\"./temp/{file_name}\", 'rb') as f:\n",
    "                        map_file = json.load(f)\n",
    "                \n",
    "    return map_file"
   ]
  },
  {
   "cell_type": "code",
   "execution_count": 8,
   "metadata": {},
   "outputs": [],
   "source": [
    "def download_song_and_map(key):\n",
    "    \"\"\"Downloads the zipped folder of song and mapping data from the beatsaber api. Extracts files to a 'temp' folder \n",
    "    in the local directory.\"\"\"\n",
    "    response = requests.get(f\"https://beatsaver.com/api/download/key/{key}\")\n",
    "    if response.status_code == 200:\n",
    "        content_as_file = BytesIO(response.content)\n",
    "        zip_file = ZipFile(content_as_file)\n",
    "        for x in zip_file.filelist:\n",
    "            print(zip_file.extract(x.filename, path = 'temp'))\n",
    "        return response.status_code\n",
    "    else:\n",
    "        return print(f\"API call failed at {key} with error code {response.status_code}\")"
   ]
  },
  {
   "cell_type": "code",
   "execution_count": 14,
   "metadata": {},
   "outputs": [
    {
     "name": "stdout",
     "output_type": "stream",
     "text": [
      "API call failed at 501f with error code 403\n"
     ]
    }
   ],
   "source": [
    "download_song_and_map(keys[0])"
   ]
  },
  {
   "cell_type": "markdown",
   "metadata": {},
   "source": [
    "Requests isn't working. Used Bash in terminal and wget to download zip folders instead."
   ]
  },
  {
   "cell_type": "code",
   "execution_count": 17,
   "metadata": {},
   "outputs": [],
   "source": [
    "with open(\"../../data/raw/keys.txt\", 'w') as w:\n",
    "    w.write(str(keys))"
   ]
  },
  {
   "cell_type": "markdown",
   "metadata": {},
   "source": [
    "`for VARIABLE in 501f 56ce 3342 7548 3aab 74a9 192 57e0 6ea9 6e58 b9c 41f2 634f 5257 6020 54ad 3680 710c 5bdc 2660 1fea 7bd9 5cf4 6b64 43e1 4d44 4d1b 22b6 6a21 5ad9; do  wget https://beatsaver.com/api/download/key/$VARIABLE; done`"
   ]
  },
  {
   "cell_type": "markdown",
   "metadata": {},
   "source": [
    "Needed a few extra keys, three keys didn't work anymore."
   ]
  },
  {
   "cell_type": "code",
   "execution_count": 21,
   "metadata": {},
   "outputs": [],
   "source": [
    "extra = np.random.choice(potential_songs, 3, replace = False)"
   ]
  },
  {
   "cell_type": "code",
   "execution_count": 22,
   "metadata": {},
   "outputs": [],
   "source": [
    "extra_keys = []\n",
    "for x in extra:\n",
    "    extra_keys.append(x['key'])"
   ]
  },
  {
   "cell_type": "code",
   "execution_count": 24,
   "metadata": {},
   "outputs": [],
   "source": [
    "for x in extra_keys:\n",
    "    keys.append(x)"
   ]
  },
  {
   "cell_type": "code",
   "execution_count": 23,
   "metadata": {},
   "outputs": [
    {
     "data": {
      "text/plain": [
       "['1ff6', '4f00', '2f1d']"
      ]
     },
     "execution_count": 23,
     "metadata": {},
     "output_type": "execute_result"
    }
   ],
   "source": [
    "extra_keys"
   ]
  },
  {
   "cell_type": "markdown",
   "metadata": {},
   "source": [
    "`for VARIABLE in 1ff6 4f00 2f1d; do  wget https://beatsaver.com/api/download/key/$VARIABLE; done`"
   ]
  },
  {
   "cell_type": "code",
   "execution_count": 64,
   "metadata": {},
   "outputs": [],
   "source": [
    "two_more = np.random.choice(potential_songs, 2, replace = False)"
   ]
  },
  {
   "cell_type": "code",
   "execution_count": 66,
   "metadata": {},
   "outputs": [],
   "source": [
    "two_more_keys = []\n",
    "for x in two_more:\n",
    "    two_more_keys.append(x['key'])"
   ]
  },
  {
   "cell_type": "code",
   "execution_count": 67,
   "metadata": {},
   "outputs": [
    {
     "data": {
      "text/plain": [
       "['6eb6', '32c7']"
      ]
     },
     "execution_count": 67,
     "metadata": {},
     "output_type": "execute_result"
    }
   ],
   "source": [
    "two_more_keys"
   ]
  },
  {
   "cell_type": "markdown",
   "metadata": {},
   "source": [
    "`for VARIABLE in 6eb6 32c7; do  wget https://beatsaver.com/api/download/key/$VARIABLE; done`"
   ]
  },
  {
   "cell_type": "code",
   "execution_count": 68,
   "metadata": {},
   "outputs": [],
   "source": [
    "files = os.listdir(\"../../data/raw/\")"
   ]
  },
  {
   "cell_type": "code",
   "execution_count": 69,
   "metadata": {},
   "outputs": [],
   "source": [
    "difficulties = ['Easy', 'Normal', 'Hard', 'Expert', 'ExpertPlus']\n",
    "models = ['random', 'HMM', 'segmented_HMM', 'rate_modulated_segmented_HMM']"
   ]
  },
  {
   "cell_type": "markdown",
   "metadata": {},
   "source": [
    "For file naming purposes:\n",
    "- m1 = Human Maps\n",
    "- m2 = Random Maps\n",
    "- m3 = HMM Maps\n",
    "- m4 = Segmented HMM Maps\n",
    "- m5 = Rate-Seg HMM Maps"
   ]
  },
  {
   "cell_type": "code",
   "execution_count": 72,
   "metadata": {},
   "outputs": [],
   "source": [
    "def strip_human_maps(files):\n",
    "    \"\"\"Function to strip human made maps of extra features in 'obstacles' and 'events' and save a new copy.\"\"\"\n",
    "    difficulties = ['Easy', 'Normal', 'Hard', 'Expert', 'ExpertPlus']\n",
    "    for file in files:\n",
    "        if file.endswith('.zip'):\n",
    "            with open(f\"../../data/raw/{file}\", 'rb') as zipfolder:\n",
    "                zip_file = zipfile.ZipFile(zipfolder)\n",
    "                #Extract zipped files into temp directory\n",
    "                for x in zip_file.filelist:\n",
    "                    zip_file.extract(x.filename, path = 'temp')\n",
    "            #Open info and save information\n",
    "            with open('./temp/info.dat', 'rb') as i:\n",
    "                info = json.load(i)\n",
    "            song_name = info['_songName']\n",
    "            bpm = info['_beatsPerMinute']\n",
    "            song_file = info['_songFilename']\n",
    "            #For each difficulty, strip extra features, write new info and map file, then zip together files\n",
    "            for difficulty in difficulties:\n",
    "                try:\n",
    "                    map_file = open_map_file(difficulty)\n",
    "                    map_file['_events'] = []\n",
    "                    map_file['_obstacles'] = []\n",
    "                    map_file['_bookmarks'] = []\n",
    "                    bms.write_info(song_name, bpm, difficulty)\n",
    "                    with open(f\"{difficulty}.dat\", 'w') as f:\n",
    "                        json.dump(map_file, f)\n",
    "                    write_files = ['info.dat', f\"{difficulty}.dat\", \"../../src/cover.jpg\", f\"./temp/{song_file}\"]\n",
    "                    with zipfile.ZipFile(f\"../../data/processed/{song_name}_{difficulty}_m1.zip\", 'w') as custom:\n",
    "                        for wfile in write_files:\n",
    "                            custom.write(wfile)\n",
    "                    os.remove(\"info.dat\")\n",
    "                    os.remove(f\"{difficulty}.dat\")\n",
    "                    print(f\"Finished writing {song_name}, {difficulty}.\")\n",
    "                except Exception as err:\n",
    "                    print(f\"{file}: \\n {err}\")\n",
    "            #Delete files in temp directory\n",
    "            filelist = [ f for f in os.listdir('temp')]\n",
    "            for f in filelist:\n",
    "                os.remove(os.path.join('temp', f))\n",
    "            os.rmdir('temp')"
   ]
  },
  {
   "cell_type": "code",
   "execution_count": 73,
   "metadata": {},
   "outputs": [
    {
     "name": "stdout",
     "output_type": "stream",
     "text": [
      "Finished writing Goldfish Jingle Breakcore Remix, Easy.\n",
      "Finished writing Goldfish Jingle Breakcore Remix, Normal.\n",
      "Finished writing Goldfish Jingle Breakcore Remix, Hard.\n",
      "Finished writing Goldfish Jingle Breakcore Remix, Expert.\n",
      "Finished writing Goldfish Jingle Breakcore Remix, ExpertPlus.\n",
      "Finished writing Lose Yourself To Dance, Easy.\n",
      "Finished writing Lose Yourself To Dance, Normal.\n",
      "Finished writing Lose Yourself To Dance, Hard.\n",
      "Finished writing Lose Yourself To Dance, Expert.\n",
      "Finished writing Lose Yourself To Dance, ExpertPlus.\n",
      "Finished writing Homebound, Easy.\n",
      "Finished writing Homebound, Normal.\n",
      "Finished writing Homebound, Hard.\n",
      "Finished writing Homebound, Expert.\n",
      "Finished writing Homebound, ExpertPlus.\n",
      "Finished writing High Hopes, Easy.\n",
      "Finished writing High Hopes, Normal.\n",
      "Finished writing High Hopes, Hard.\n",
      "Finished writing High Hopes, Expert.\n",
      "Finished writing High Hopes, ExpertPlus.\n",
      "Finished writing Diastrophism, Easy.\n",
      "Finished writing Diastrophism, Normal.\n",
      "Finished writing Diastrophism, Hard.\n",
      "Finished writing Diastrophism, Expert.\n",
      "Finished writing Diastrophism, ExpertPlus.\n",
      "Finished writing Pinocchio, Easy.\n",
      "Finished writing Pinocchio, Normal.\n",
      "Finished writing Pinocchio, Hard.\n",
      "Finished writing Pinocchio, Expert.\n",
      "Finished writing Pinocchio, ExpertPlus.\n",
      "Finished writing Little Angel, Easy.\n",
      "Finished writing Little Angel, Normal.\n",
      "Finished writing Little Angel, Hard.\n",
      "Finished writing Little Angel, Expert.\n",
      "Finished writing Little Angel, ExpertPlus.\n",
      "Finished writing Calling, Easy.\n",
      "Finished writing Calling, Normal.\n",
      "Finished writing Calling, Hard.\n",
      "Finished writing Calling, Expert.\n",
      "Finished writing Calling, ExpertPlus.\n",
      "Finished writing Find That Someone (feat. Richard), Easy.\n",
      "Finished writing Find That Someone (feat. Richard), Normal.\n",
      "Finished writing Find That Someone (feat. Richard), Hard.\n",
      "Finished writing Find That Someone (feat. Richard), Expert.\n",
      "Finished writing Find That Someone (feat. Richard), ExpertPlus.\n",
      "Finished writing Maniac (Live), Easy.\n",
      "Finished writing Maniac (Live), Normal.\n",
      "Finished writing Maniac (Live), Hard.\n",
      "Finished writing Maniac (Live), Expert.\n",
      "Finished writing Maniac (Live), ExpertPlus.\n",
      "Finished writing Mustard or Ketchup (Ponk edition), Easy.\n",
      "Finished writing Mustard or Ketchup (Ponk edition), Normal.\n",
      "Finished writing Mustard or Ketchup (Ponk edition), Hard.\n",
      "Finished writing Mustard or Ketchup (Ponk edition), Expert.\n",
      "Finished writing Mustard or Ketchup (Ponk edition), ExpertPlus.\n",
      "Finished writing Fly High!!, Easy.\n",
      "Finished writing Fly High!!, Normal.\n",
      "Finished writing Fly High!!, Hard.\n",
      "Finished writing Fly High!!, Expert.\n",
      "Finished writing Fly High!!, ExpertPlus.\n",
      "Finished writing Stella-rium, Easy.\n",
      "Finished writing Stella-rium, Normal.\n",
      "Finished writing Stella-rium, Hard.\n",
      "Finished writing Stella-rium, Expert.\n",
      "Finished writing Stella-rium, ExpertPlus.\n",
      "Finished writing Beat Saber, Easy.\n",
      "Finished writing Beat Saber, Normal.\n",
      "Finished writing Beat Saber, Hard.\n",
      "Finished writing Beat Saber, Expert.\n",
      "Finished writing Beat Saber, ExpertPlus.\n",
      "Finished writing Brand New Day, Easy.\n",
      "Finished writing Brand New Day, Normal.\n",
      "Finished writing Brand New Day, Hard.\n",
      "Finished writing Brand New Day, Expert.\n",
      "Finished writing Brand New Day, ExpertPlus.\n",
      "Finished writing While You Sin, Easy.\n",
      "Finished writing While You Sin, Normal.\n",
      "Finished writing While You Sin, Hard.\n",
      "Finished writing While You Sin, Expert.\n",
      "Finished writing While You Sin, ExpertPlus.\n",
      "Finished writing Don't Let Me Down (Illenium Remix), Easy.\n",
      "Finished writing Don't Let Me Down (Illenium Remix), Normal.\n",
      "Finished writing Don't Let Me Down (Illenium Remix), Hard.\n",
      "Finished writing Don't Let Me Down (Illenium Remix), Expert.\n",
      "Finished writing Don't Let Me Down (Illenium Remix), ExpertPlus.\n",
      "Finished writing Down Under, Easy.\n",
      "Finished writing Down Under, Normal.\n",
      "Finished writing Down Under, Hard.\n",
      "Finished writing Down Under, Expert.\n",
      "Finished writing Down Under, ExpertPlus.\n",
      "Finished writing Disco Rangers, Easy.\n",
      "Finished writing Disco Rangers, Normal.\n",
      "Finished writing Disco Rangers, Hard.\n",
      "Finished writing Disco Rangers, Expert.\n",
      "Finished writing Disco Rangers, ExpertPlus.\n",
      "Finished writing Semi-Transparent Boy, Easy.\n",
      "Finished writing Semi-Transparent Boy, Normal.\n",
      "Finished writing Semi-Transparent Boy, Hard.\n",
      "Finished writing Semi-Transparent Boy, Expert.\n",
      "Finished writing Semi-Transparent Boy, ExpertPlus.\n",
      "Finished writing To Zanarkand, Easy.\n",
      "Finished writing To Zanarkand, Normal.\n",
      "Finished writing To Zanarkand, Hard.\n",
      "Finished writing To Zanarkand, Expert.\n",
      "Finished writing To Zanarkand, ExpertPlus.\n",
      "Finished writing Dragonfly, Easy.\n",
      "Finished writing Dragonfly, Normal.\n",
      "Finished writing Dragonfly, Hard.\n",
      "Finished writing Dragonfly, Expert.\n",
      "Finished writing Dragonfly, ExpertPlus.\n",
      "Finished writing Glorious Day (Remix), Easy.\n",
      "Finished writing Glorious Day (Remix), Normal.\n",
      "Finished writing Glorious Day (Remix), Hard.\n",
      "Finished writing Glorious Day (Remix), Expert.\n",
      "Finished writing Glorious Day (Remix), ExpertPlus.\n",
      "Finished writing Phantasy, Easy.\n",
      "Finished writing Phantasy, Normal.\n",
      "Finished writing Phantasy, Hard.\n",
      "Finished writing Phantasy, Expert.\n",
      "Finished writing Phantasy, ExpertPlus.\n",
      "Finished writing Lean On, Easy.\n",
      "Finished writing Lean On, Normal.\n",
      "Finished writing Lean On, Hard.\n",
      "Finished writing Lean On, Expert.\n",
      "Finished writing Lean On, ExpertPlus.\n",
      "Finished writing LIFE (TV Size), Easy.\n",
      "Finished writing LIFE (TV Size), Normal.\n",
      "Finished writing LIFE (TV Size), Hard.\n",
      "Finished writing LIFE (TV Size), Expert.\n",
      "Finished writing LIFE (TV Size), ExpertPlus.\n",
      "Finished writing Falling Down, Easy.\n",
      "Finished writing Falling Down, Normal.\n",
      "Finished writing Falling Down, Hard.\n",
      "Finished writing Falling Down, Expert.\n",
      "Finished writing Falling Down, ExpertPlus.\n",
      "Finished writing Mirai prism, Easy.\n",
      "Finished writing Mirai prism, Normal.\n",
      "Finished writing Mirai prism, Hard.\n",
      "Finished writing Mirai prism, Expert.\n",
      "Finished writing Mirai prism, ExpertPlus.\n",
      "Finished writing No More Sorrow, Easy.\n",
      "Finished writing No More Sorrow, Normal.\n",
      "Finished writing No More Sorrow, Hard.\n",
      "Finished writing No More Sorrow, Expert.\n",
      "Finished writing No More Sorrow, ExpertPlus.\n",
      "Finished writing Bonfire, Easy.\n",
      "Finished writing Bonfire, Normal.\n",
      "Finished writing Bonfire, Hard.\n",
      "Finished writing Bonfire, Expert.\n",
      "Finished writing Bonfire, ExpertPlus.\n"
     ]
    }
   ],
   "source": [
    "strip_human_maps(files)"
   ]
  },
  {
   "cell_type": "code",
   "execution_count": null,
   "metadata": {},
   "outputs": [],
   "source": []
  }
 ],
 "metadata": {
  "kernelspec": {
   "display_name": "Python 3.6.9 64-bit ('BSMapSynth-env': conda)",
   "language": "python",
   "name": "python36964bitbsmapsynthenvconda13e77a131ab249d0905cca83e6a4f89f"
  },
  "language_info": {
   "codemirror_mode": {
    "name": "ipython",
    "version": 3
   },
   "file_extension": ".py",
   "mimetype": "text/x-python",
   "name": "python",
   "nbconvert_exporter": "python",
   "pygments_lexer": "ipython3",
   "version": "3.6.9"
  }
 },
 "nbformat": 4,
 "nbformat_minor": 4
}
