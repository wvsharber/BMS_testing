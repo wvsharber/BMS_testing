{
 "cells": [
  {
   "cell_type": "markdown",
   "metadata": {},
   "source": [
    "# User Testing Planning/Coding Notebook\n",
    "\n",
    "### Objectives:\n",
    "- Plan user testing\n",
    "- Code scripts to generate test maps:\n",
    "    - Randomly pull maps/music from 30 songs with maps for all difficulty levels from Beat Saver (tried all >70% rating but not enough were rated)\n",
    "    - Strip obstacles/lighting events from human made maps and set background environment all the same\n",
    "    - Map all songs with each model type\n",
    "    - Automatically categorize songs/beat structure?\n",
    "- For each user/volunteer:\n",
    "    - Randomly assign Random, HMM, Segmented HMM, Rate-Seg HMM, or Human-made\n",
    "    - Record email address, user-ID, and assigned map information (song, model/human, difficulty) in pd DataFrame\n",
    "    - Send assignment to user    "
   ]
  },
  {
   "cell_type": "code",
   "execution_count": 2,
   "metadata": {},
   "outputs": [],
   "source": [
    "import pandas as pd\n",
    "import numpy as np\n",
    "import json\n",
    "import requests\n",
    "import zipfile\n",
    "import pickle"
   ]
  },
  {
   "cell_type": "code",
   "execution_count": 5,
   "metadata": {},
   "outputs": [],
   "source": [
    "with open(\"../../data/metadata.pkl\", 'rb') as file:\n",
    "    metadata = pickle.load(file)"
   ]
  },
  {
   "cell_type": "code",
   "execution_count": 6,
   "metadata": {},
   "outputs": [
    {
     "data": {
      "text/plain": [
       "{'metadata': {'difficulties': {'easy': False,\n",
       "   'expert': False,\n",
       "   'expertPlus': True,\n",
       "   'hard': False,\n",
       "   'normal': False},\n",
       "  'duration': 268,\n",
       "  'characteristics': [{'difficulties': {'easy': None,\n",
       "     'expert': None,\n",
       "     'expertPlus': {'duration': 771.25,\n",
       "      'length': 265,\n",
       "      'njs': 20,\n",
       "      'njsOffset': 0,\n",
       "      'bombs': 30,\n",
       "      'notes': 1986,\n",
       "      'obstacles': 3},\n",
       "     'hard': None,\n",
       "     'normal': None},\n",
       "    'name': 'Standard'}],\n",
       "  'levelAuthorName': 'Durple',\n",
       "  'songAuthorName': 'RIOT',\n",
       "  'songName': 'Knife Party & Tom Morello - Battle Sirens (RIOT Remix)',\n",
       "  'songSubName': '',\n",
       "  'bpm': 174},\n",
       " 'stats': {'downloads': 107,\n",
       "  'plays': 0,\n",
       "  'downVotes': 0,\n",
       "  'upVotes': 0,\n",
       "  'heat': 1186.1311706,\n",
       "  'rating': 0},\n",
       " 'description': 'Fully Tested and Re-Vamped \\nsome parts are challenging :) ',\n",
       " 'deletedAt': None,\n",
       " '_id': '5e16219eb9d8a90006ede70f',\n",
       " 'key': '7d17',\n",
       " 'name': 'Knife Party & Tom Morello - Battle Sirens (RIOT Remix)',\n",
       " 'uploader': {'_id': '5dca50351a3ccd000666bbce', 'username': 'yo liamx'},\n",
       " 'hash': '76e21aed1f6fc13a8ce94353addc298712ea6ab2',\n",
       " 'uploaded': '2020-01-08T18:38:22.679Z',\n",
       " 'directDownload': '/cdn/7d17/76e21aed1f6fc13a8ce94353addc298712ea6ab2.zip',\n",
       " 'downloadURL': '/api/download/key/7d17',\n",
       " 'coverURL': '/cdn/7d17/76e21aed1f6fc13a8ce94353addc298712ea6ab2.jpg'}"
      ]
     },
     "execution_count": 6,
     "metadata": {},
     "output_type": "execute_result"
    }
   ],
   "source": [
    "metadata[0]"
   ]
  },
  {
   "cell_type": "code",
   "execution_count": 7,
   "metadata": {},
   "outputs": [
    {
     "data": {
      "text/plain": [
       "{'downloads': 107,\n",
       " 'plays': 0,\n",
       " 'downVotes': 0,\n",
       " 'upVotes': 0,\n",
       " 'heat': 1186.1311706,\n",
       " 'rating': 0}"
      ]
     },
     "execution_count": 7,
     "metadata": {},
     "output_type": "execute_result"
    }
   ],
   "source": [
    "metadata[0]['stats']"
   ]
  },
  {
   "cell_type": "code",
   "execution_count": 18,
   "metadata": {},
   "outputs": [],
   "source": [
    "potential_songs = []\n",
    "\n",
    "for x in metadata:\n",
    "    if all(value == True for value in x['metadata']['difficulties'].values()):\n",
    "        potential_songs.append(x)"
   ]
  },
  {
   "cell_type": "code",
   "execution_count": 19,
   "metadata": {},
   "outputs": [
    {
     "data": {
      "text/plain": [
       "556"
      ]
     },
     "execution_count": 19,
     "metadata": {},
     "output_type": "execute_result"
    }
   ],
   "source": [
    "len(potential_songs)"
   ]
  },
  {
   "cell_type": "code",
   "execution_count": 20,
   "metadata": {},
   "outputs": [],
   "source": [
    "test_songs = np.random.choice(potential_songs, 30, replace = False)"
   ]
  },
  {
   "cell_type": "markdown",
   "metadata": {},
   "source": [
    "For each test song in the list:\n",
    "1. Download with key and unzip\n",
    "2. For each difficulty level:\n",
    "    - Map with each model\n",
    "    - Edit/strip human map\n",
    "    - Save zip folder"
   ]
  },
  {
   "cell_type": "code",
   "execution_count": 26,
   "metadata": {},
   "outputs": [],
   "source": [
    "keys = []\n",
    "for x in test_songs:\n",
    "    keys.append(x['key'])"
   ]
  },
  {
   "cell_type": "code",
   "execution_count": 28,
   "metadata": {},
   "outputs": [],
   "source": [
    "def open_map_file(difficulty):\n",
    "    \"\"\"This function opens the map file listed in the info.dat file for the specificed difficulty level.\"\"\"\n",
    "    with open('./temp/info.dat', 'rb') as i:\n",
    "        info = json.load(i)\n",
    "    for x in info['_difficultyBeatmapSets']:\n",
    "        if x['_beatmapCharacteristicName'] == 'Standard':\n",
    "            for y in x['_difficultyBeatmaps']:\n",
    "                if y['_difficulty'] == difficulty:\n",
    "                    file_name = y['_beatmapFilename']\n",
    "                    with open(f\"./temp/{file_name}\", 'rb') as f:\n",
    "                        map_file = json.load(f)\n",
    "                \n",
    "    return map_file"
   ]
  },
  {
   "cell_type": "code",
   "execution_count": 29,
   "metadata": {},
   "outputs": [],
   "source": [
    "def download_song_and_map(key):\n",
    "    \"\"\"Downloads the zipped folder of song and mapping data from the beatsaber api. Extracts files to a 'temp' folder \n",
    "    in the local directory.\"\"\"\n",
    "    response = requests.get(f\"https://beatsaver.com/api/download/key/{key}\")\n",
    "    if response.status_code == 200:\n",
    "        content_as_file = BytesIO(response.content)\n",
    "        zip_file = ZipFile(content_as_file)\n",
    "        for x in zip_file.filelist:\n",
    "            print(zip_file.extract(x.filename, path = 'temp'))\n",
    "        return response.status_code\n",
    "    else:\n",
    "        return print(f\"API call failed at {key} with error code {response.status_code}\")"
   ]
  },
  {
   "cell_type": "code",
   "execution_count": null,
   "metadata": {},
   "outputs": [],
   "source": []
  }
 ],
 "metadata": {
  "kernelspec": {
   "display_name": "Python 3.6.9 64-bit ('BSMapSynth-env': conda)",
   "language": "python",
   "name": "python36964bitbsmapsynthenvconda13e77a131ab249d0905cca83e6a4f89f"
  },
  "language_info": {
   "codemirror_mode": {
    "name": "ipython",
    "version": 3
   },
   "file_extension": ".py",
   "mimetype": "text/x-python",
   "name": "python",
   "nbconvert_exporter": "python",
   "pygments_lexer": "ipython3",
   "version": "3.6.9"
  }
 },
 "nbformat": 4,
 "nbformat_minor": 4
}
