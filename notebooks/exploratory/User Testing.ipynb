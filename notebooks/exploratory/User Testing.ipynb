{
 "cells": [
  {
   "cell_type": "markdown",
   "metadata": {},
   "source": [
    "# User Testing Planning/Coding Notebook\n",
    "\n",
    "### Objectives:\n",
    "- Plan user testing\n",
    "- Code scripts to generate test maps:\n",
    "    - Randomly pull maps/music from 30 songs with maps for all difficulty levels from Beat Saver (tried all >70% rating but not enough were rated)\n",
    "    - Strip obstacles/lighting events from human made maps and set background environment all the same\n",
    "    - Map all songs with each model type\n",
    "    - Automatically categorize songs/beat structure?\n",
    "- For each user/volunteer:\n",
    "    - Randomly assign Random, HMM, Segmented HMM, Rate-Seg HMM, or Human-made\n",
    "    - Record email address, user-ID, and assigned map information (song, model/human, difficulty) in pd DataFrame\n",
    "    - Send assignment to user    "
   ]
  },
  {
   "cell_type": "code",
   "execution_count": 1,
   "metadata": {},
   "outputs": [],
   "source": [
    "import pandas as pd\n",
    "import numpy as np\n",
    "import json\n",
    "import requests\n",
    "import zipfile\n",
    "from io import BytesIO\n",
    "import pickle\n",
    "import src.beatmapsynth as bms\n",
    "import os"
   ]
  },
  {
   "cell_type": "code",
   "execution_count": 11,
   "metadata": {},
   "outputs": [],
   "source": [
    "with open(\"../../data/metadata.pkl\", 'rb') as file:\n",
    "    metadata = pickle.load(file)"
   ]
  },
  {
   "cell_type": "code",
   "execution_count": 12,
   "metadata": {},
   "outputs": [],
   "source": [
    "potential_songs = []\n",
    "\n",
    "for x in metadata:\n",
    "    if all(value == True for value in x['metadata']['difficulties'].values()):\n",
    "        potential_songs.append(x)"
   ]
  },
  {
   "cell_type": "code",
   "execution_count": 4,
   "metadata": {},
   "outputs": [
    {
     "data": {
      "text/plain": [
       "556"
      ]
     },
     "execution_count": 4,
     "metadata": {},
     "output_type": "execute_result"
    }
   ],
   "source": [
    "len(potential_songs)"
   ]
  },
  {
   "cell_type": "code",
   "execution_count": 5,
   "metadata": {},
   "outputs": [],
   "source": [
    "test_songs = np.random.choice(potential_songs, 30, replace = False)"
   ]
  },
  {
   "cell_type": "markdown",
   "metadata": {},
   "source": [
    "For each test song in the list:\n",
    "1. Download with key and unzip\n",
    "2. For each difficulty level:\n",
    "    - Edit/strip human map\n",
    "    - Map with each model\n",
    "    - Save zip folder"
   ]
  },
  {
   "cell_type": "code",
   "execution_count": 6,
   "metadata": {},
   "outputs": [],
   "source": [
    "keys = []\n",
    "for x in test_songs:\n",
    "    keys.append(x['key'])"
   ]
  },
  {
   "cell_type": "code",
   "execution_count": 2,
   "metadata": {},
   "outputs": [],
   "source": [
    "def open_map_file(difficulty):\n",
    "    \"\"\"This function opens the map file listed in the info.dat file for the specificed difficulty level.\"\"\"\n",
    "    with open('./temp/info.dat', 'rb') as i:\n",
    "        info = json.load(i)\n",
    "    for x in info['_difficultyBeatmapSets']:\n",
    "        if x['_beatmapCharacteristicName'] == 'Standard':\n",
    "            for y in x['_difficultyBeatmaps']:\n",
    "                if y['_difficulty'].casefold() == difficulty.casefold():\n",
    "                    file_name = y['_beatmapFilename']\n",
    "                    with open(f\"./temp/{file_name}\", 'rb') as f:\n",
    "                        map_file = json.load(f)\n",
    "                \n",
    "    return map_file"
   ]
  },
  {
   "cell_type": "code",
   "execution_count": 3,
   "metadata": {},
   "outputs": [],
   "source": [
    "def download_song_and_map(key):\n",
    "    \"\"\"Downloads the zipped folder of song and mapping data from the beatsaber api. Extracts files to a 'temp' folder \n",
    "    in the local directory.\"\"\"\n",
    "    response = requests.get(f\"https://beatsaver.com/api/download/key/{key}\")\n",
    "    if response.status_code == 200:\n",
    "        content_as_file = BytesIO(response.content)\n",
    "        zip_file = ZipFile(content_as_file)\n",
    "        for x in zip_file.filelist:\n",
    "            print(zip_file.extract(x.filename, path = 'temp'))\n",
    "        return response.status_code\n",
    "    else:\n",
    "        return print(f\"API call failed at {key} with error code {response.status_code}\")"
   ]
  },
  {
   "cell_type": "code",
   "execution_count": 14,
   "metadata": {},
   "outputs": [
    {
     "name": "stdout",
     "output_type": "stream",
     "text": [
      "API call failed at 501f with error code 403\n"
     ]
    }
   ],
   "source": [
    "download_song_and_map(keys[0])"
   ]
  },
  {
   "cell_type": "markdown",
   "metadata": {},
   "source": [
    "Requests isn't working. Used Bash in terminal and wget to download zip folders instead."
   ]
  },
  {
   "cell_type": "code",
   "execution_count": 17,
   "metadata": {},
   "outputs": [],
   "source": [
    "with open(\"../../data/raw/keys.txt\", 'w') as w:\n",
    "    w.write(str(keys))"
   ]
  },
  {
   "cell_type": "markdown",
   "metadata": {},
   "source": [
    "`for VARIABLE in 501f 56ce 3342 7548 3aab 74a9 192 57e0 6ea9 6e58 b9c 41f2 634f 5257 6020 54ad 3680 710c 5bdc 2660 1fea 7bd9 5cf4 6b64 43e1 4d44 4d1b 22b6 6a21 5ad9; do  wget https://beatsaver.com/api/download/key/$VARIABLE; done`"
   ]
  },
  {
   "cell_type": "markdown",
   "metadata": {},
   "source": [
    "Needed a few extra keys, three keys didn't work anymore."
   ]
  },
  {
   "cell_type": "code",
   "execution_count": 21,
   "metadata": {},
   "outputs": [],
   "source": [
    "extra = np.random.choice(potential_songs, 3, replace = False)"
   ]
  },
  {
   "cell_type": "code",
   "execution_count": 22,
   "metadata": {},
   "outputs": [],
   "source": [
    "extra_keys = []\n",
    "for x in extra:\n",
    "    extra_keys.append(x['key'])"
   ]
  },
  {
   "cell_type": "code",
   "execution_count": 24,
   "metadata": {},
   "outputs": [],
   "source": [
    "for x in extra_keys:\n",
    "    keys.append(x)"
   ]
  },
  {
   "cell_type": "code",
   "execution_count": 23,
   "metadata": {},
   "outputs": [
    {
     "data": {
      "text/plain": [
       "['1ff6', '4f00', '2f1d']"
      ]
     },
     "execution_count": 23,
     "metadata": {},
     "output_type": "execute_result"
    }
   ],
   "source": [
    "extra_keys"
   ]
  },
  {
   "cell_type": "markdown",
   "metadata": {},
   "source": [
    "`for VARIABLE in 1ff6 4f00 2f1d; do  wget https://beatsaver.com/api/download/key/$VARIABLE; done`"
   ]
  },
  {
   "cell_type": "code",
   "execution_count": 64,
   "metadata": {},
   "outputs": [],
   "source": [
    "two_more = np.random.choice(potential_songs, 2, replace = False)"
   ]
  },
  {
   "cell_type": "code",
   "execution_count": 66,
   "metadata": {},
   "outputs": [],
   "source": [
    "two_more_keys = []\n",
    "for x in two_more:\n",
    "    two_more_keys.append(x['key'])"
   ]
  },
  {
   "cell_type": "code",
   "execution_count": 67,
   "metadata": {},
   "outputs": [
    {
     "data": {
      "text/plain": [
       "['6eb6', '32c7']"
      ]
     },
     "execution_count": 67,
     "metadata": {},
     "output_type": "execute_result"
    }
   ],
   "source": [
    "two_more_keys"
   ]
  },
  {
   "cell_type": "markdown",
   "metadata": {},
   "source": [
    "`for VARIABLE in 6eb6 32c7; do  wget https://beatsaver.com/api/download/key/$VARIABLE; done`"
   ]
  },
  {
   "cell_type": "code",
   "execution_count": 21,
   "metadata": {},
   "outputs": [
    {
     "data": {
      "text/plain": [
       "['61fd']"
      ]
     },
     "execution_count": 21,
     "metadata": {},
     "output_type": "execute_result"
    }
   ],
   "source": [
    "one_more = np.random.choice(potential_songs, 1, replace = False)\n",
    "one_more_key = []\n",
    "for x in one_more:\n",
    "    one_more_key.append(x['key'])\n",
    "\n",
    "one_more_key"
   ]
  },
  {
   "cell_type": "code",
   "execution_count": 22,
   "metadata": {},
   "outputs": [],
   "source": [
    "files = os.listdir(\"../../data/raw/\")"
   ]
  },
  {
   "cell_type": "code",
   "execution_count": 15,
   "metadata": {},
   "outputs": [],
   "source": [
    "difficulties = ['Easy', 'Normal', 'Hard', 'Expert', 'ExpertPlus']\n",
    "models = ['random', 'HMM', 'segmented_HMM', 'rate_modulated_segmented_HMM']"
   ]
  },
  {
   "cell_type": "markdown",
   "metadata": {},
   "source": [
    "For file naming purposes:\n",
    "- m1 = Human Maps\n",
    "- m2 = Random Maps\n",
    "- m3 = HMM Maps\n",
    "- m4 = Segmented HMM Maps\n",
    "- m5 = Rate-Seg HMM Maps"
   ]
  },
  {
   "cell_type": "code",
   "execution_count": 18,
   "metadata": {},
   "outputs": [],
   "source": [
    "def strip_human_maps(files):\n",
    "    \"\"\"Function to strip human made maps of extra features in 'obstacles' and 'events' and save a new copy.\"\"\"\n",
    "    difficulties = ['Easy', 'Normal', 'Hard', 'Expert', 'ExpertPlus']\n",
    "    for file in files:\n",
    "        if file.endswith('.zip'):\n",
    "            with open(f\"../../data/raw/{file}\", 'rb') as zipfolder:\n",
    "                zip_file = zipfile.ZipFile(zipfolder)\n",
    "                #Extract zipped files into temp directory\n",
    "                for x in zip_file.filelist:\n",
    "                    zip_file.extract(x.filename, path = 'temp')\n",
    "            #Open info and save information\n",
    "            with open('./temp/info.dat', 'rb') as i:\n",
    "                info = json.load(i)\n",
    "            song_name = info['_songName']\n",
    "            bpm = info['_beatsPerMinute']\n",
    "            song_file = info['_songFilename']\n",
    "            #For each difficulty, strip extra features, write new info and map file, then zip together files\n",
    "            for difficulty in difficulties:\n",
    "                try:\n",
    "                    map_file = open_map_file(difficulty)\n",
    "                    map_file['_events'] = []\n",
    "                    map_file['_obstacles'] = []\n",
    "                    map_file['_bookmarks'] = []\n",
    "                    bms.write_info(song_name, bpm, difficulty)\n",
    "                    with open(f\"{difficulty}.dat\", 'w') as f:\n",
    "                        json.dump(map_file, f)\n",
    "                    write_files = ['info.dat', f\"{difficulty}.dat\", \"cover.jpg\", f\"./temp/{song_file}\"]\n",
    "                    #Zip files together\n",
    "                    with zipfile.ZipFile(f\"../../data/processed/{song_name}_{difficulty}_m1.zip\", 'w') as custom:\n",
    "                        for wfile in write_files:\n",
    "                            custom.write(wfile)\n",
    "                    #Delete files\n",
    "                    os.remove(\"info.dat\")\n",
    "                    os.remove(f\"{difficulty}.dat\")\n",
    "                    print(f\"Finished writing {song_name}, {difficulty}.\")\n",
    "                except Exception as err:\n",
    "                    print(f\"{file}: \\n {err}\")\n",
    "            #Delete files in temp directory\n",
    "            filelist = [ f for f in os.listdir('temp')]\n",
    "            for f in filelist:\n",
    "                os.remove(os.path.join('temp', f))\n",
    "            os.rmdir('temp')"
   ]
  },
  {
   "cell_type": "code",
   "execution_count": 23,
   "metadata": {},
   "outputs": [
    {
     "name": "stdout",
     "output_type": "stream",
     "text": [
      "Finished writing Lose Yourself To Dance, Easy.\n",
      "Finished writing Lose Yourself To Dance, Normal.\n",
      "Finished writing Lose Yourself To Dance, Hard.\n",
      "Finished writing Lose Yourself To Dance, Expert.\n",
      "Finished writing Lose Yourself To Dance, ExpertPlus.\n",
      "Finished writing Homebound, Easy.\n",
      "Finished writing Homebound, Normal.\n",
      "Finished writing Homebound, Hard.\n",
      "Finished writing Homebound, Expert.\n",
      "Finished writing Homebound, ExpertPlus.\n",
      "Finished writing High Hopes, Easy.\n",
      "Finished writing High Hopes, Normal.\n",
      "Finished writing High Hopes, Hard.\n",
      "Finished writing High Hopes, Expert.\n",
      "Finished writing High Hopes, ExpertPlus.\n",
      "Finished writing Diastrophism, Easy.\n",
      "Finished writing Diastrophism, Normal.\n",
      "Finished writing Diastrophism, Hard.\n",
      "Finished writing Diastrophism, Expert.\n",
      "Finished writing Diastrophism, ExpertPlus.\n",
      "Finished writing Pinocchio, Easy.\n",
      "Finished writing Pinocchio, Normal.\n",
      "Finished writing Pinocchio, Hard.\n",
      "Finished writing Pinocchio, Expert.\n",
      "Finished writing Pinocchio, ExpertPlus.\n",
      "Finished writing Little Angel, Easy.\n",
      "Finished writing Little Angel, Normal.\n",
      "Finished writing Little Angel, Hard.\n",
      "Finished writing Little Angel, Expert.\n",
      "Finished writing Little Angel, ExpertPlus.\n",
      "Finished writing Calling, Easy.\n",
      "Finished writing Calling, Normal.\n",
      "Finished writing Calling, Hard.\n",
      "Finished writing Calling, Expert.\n",
      "Finished writing Calling, ExpertPlus.\n",
      "Finished writing Find That Someone (feat. Richard), Easy.\n",
      "Finished writing Find That Someone (feat. Richard), Normal.\n",
      "Finished writing Find That Someone (feat. Richard), Hard.\n",
      "Finished writing Find That Someone (feat. Richard), Expert.\n",
      "Finished writing Find That Someone (feat. Richard), ExpertPlus.\n",
      "Finished writing Maniac (Live), Easy.\n",
      "Finished writing Maniac (Live), Normal.\n",
      "Finished writing Maniac (Live), Hard.\n",
      "Finished writing Maniac (Live), Expert.\n",
      "Finished writing Maniac (Live), ExpertPlus.\n",
      "Finished writing Fly High!!, Easy.\n",
      "Finished writing Fly High!!, Normal.\n",
      "Finished writing Fly High!!, Hard.\n",
      "Finished writing Fly High!!, Expert.\n",
      "Finished writing Fly High!!, ExpertPlus.\n",
      "Finished writing Stella-rium, Easy.\n",
      "Finished writing Stella-rium, Normal.\n",
      "Finished writing Stella-rium, Hard.\n",
      "Finished writing Stella-rium, Expert.\n",
      "Finished writing Stella-rium, ExpertPlus.\n",
      "Finished writing Beat Saber, Easy.\n",
      "Finished writing Beat Saber, Normal.\n",
      "Finished writing Beat Saber, Hard.\n",
      "Finished writing Beat Saber, Expert.\n",
      "Finished writing Beat Saber, ExpertPlus.\n",
      "Finished writing Brand New Day, Easy.\n",
      "Finished writing Brand New Day, Normal.\n",
      "Finished writing Brand New Day, Hard.\n",
      "Finished writing Brand New Day, Expert.\n",
      "Finished writing Brand New Day, ExpertPlus.\n",
      "Finished writing While You Sin, Easy.\n",
      "Finished writing While You Sin, Normal.\n",
      "Finished writing While You Sin, Hard.\n",
      "Finished writing While You Sin, Expert.\n",
      "Finished writing While You Sin, ExpertPlus.\n",
      "Finished writing Don't Let Me Down (Illenium Remix), Easy.\n",
      "Finished writing Don't Let Me Down (Illenium Remix), Normal.\n",
      "Finished writing Don't Let Me Down (Illenium Remix), Hard.\n",
      "Finished writing Don't Let Me Down (Illenium Remix), Expert.\n",
      "Finished writing Don't Let Me Down (Illenium Remix), ExpertPlus.\n",
      "Finished writing Down Under, Easy.\n",
      "Finished writing Down Under, Normal.\n",
      "Finished writing Down Under, Hard.\n",
      "Finished writing Down Under, Expert.\n",
      "Finished writing Down Under, ExpertPlus.\n",
      "Finished writing Disco Rangers, Easy.\n",
      "Finished writing Disco Rangers, Normal.\n",
      "Finished writing Disco Rangers, Hard.\n",
      "Finished writing Disco Rangers, Expert.\n",
      "Finished writing Disco Rangers, ExpertPlus.\n",
      "Finished writing Semi-Transparent Boy, Easy.\n",
      "Finished writing Semi-Transparent Boy, Normal.\n",
      "Finished writing Semi-Transparent Boy, Hard.\n",
      "Finished writing Semi-Transparent Boy, Expert.\n",
      "Finished writing Semi-Transparent Boy, ExpertPlus.\n",
      "Finished writing To Zanarkand, Easy.\n",
      "Finished writing To Zanarkand, Normal.\n",
      "Finished writing To Zanarkand, Hard.\n",
      "Finished writing To Zanarkand, Expert.\n",
      "Finished writing To Zanarkand, ExpertPlus.\n",
      "Finished writing Dragonfly, Easy.\n",
      "Finished writing Dragonfly, Normal.\n",
      "Finished writing Dragonfly, Hard.\n",
      "Finished writing Dragonfly, Expert.\n",
      "Finished writing Dragonfly, ExpertPlus.\n",
      "Finished writing Machine Hearts, Easy.\n",
      "Finished writing Machine Hearts, Normal.\n",
      "Finished writing Machine Hearts, Hard.\n",
      "Finished writing Machine Hearts, Expert.\n",
      "Finished writing Machine Hearts, ExpertPlus.\n",
      "Finished writing Walls Down, Easy.\n",
      "Finished writing Walls Down, Normal.\n",
      "Finished writing Walls Down, Hard.\n",
      "Finished writing Walls Down, Expert.\n",
      "Finished writing Walls Down, ExpertPlus.\n",
      "Finished writing Glorious Day (Remix), Easy.\n",
      "Finished writing Glorious Day (Remix), Normal.\n",
      "Finished writing Glorious Day (Remix), Hard.\n",
      "Finished writing Glorious Day (Remix), Expert.\n",
      "Finished writing Glorious Day (Remix), ExpertPlus.\n",
      "Finished writing Phantasy, Easy.\n",
      "Finished writing Phantasy, Normal.\n",
      "Finished writing Phantasy, Hard.\n",
      "Finished writing Phantasy, Expert.\n",
      "Finished writing Phantasy, ExpertPlus.\n",
      "Finished writing Lean On, Easy.\n",
      "Finished writing Lean On, Normal.\n",
      "Finished writing Lean On, Hard.\n",
      "Finished writing Lean On, Expert.\n",
      "Finished writing Lean On, ExpertPlus.\n",
      "Finished writing LIFE (TV Size), Easy.\n",
      "Finished writing LIFE (TV Size), Normal.\n",
      "Finished writing LIFE (TV Size), Hard.\n",
      "Finished writing LIFE (TV Size), Expert.\n",
      "Finished writing LIFE (TV Size), ExpertPlus.\n",
      "Finished writing Falling Down, Easy.\n",
      "Finished writing Falling Down, Normal.\n",
      "Finished writing Falling Down, Hard.\n",
      "Finished writing Falling Down, Expert.\n",
      "Finished writing Falling Down, ExpertPlus.\n",
      "Finished writing Mirai prism, Easy.\n",
      "Finished writing Mirai prism, Normal.\n",
      "Finished writing Mirai prism, Hard.\n",
      "Finished writing Mirai prism, Expert.\n",
      "Finished writing Mirai prism, ExpertPlus.\n",
      "Finished writing No More Sorrow, Easy.\n",
      "Finished writing No More Sorrow, Normal.\n",
      "Finished writing No More Sorrow, Hard.\n",
      "Finished writing No More Sorrow, Expert.\n",
      "Finished writing No More Sorrow, ExpertPlus.\n",
      "Finished writing Bonfire, Easy.\n",
      "Finished writing Bonfire, Normal.\n",
      "Finished writing Bonfire, Hard.\n",
      "Finished writing Bonfire, Expert.\n",
      "Finished writing Bonfire, ExpertPlus.\n"
     ]
    }
   ],
   "source": [
    "strip_human_maps(files)"
   ]
  },
  {
   "cell_type": "code",
   "execution_count": 24,
   "metadata": {},
   "outputs": [],
   "source": [
    "def model_based_maps(files):\n",
    "    \"\"\"Function that writes a zipped map file with each available model in beatmapsynth for each difficulty level.\"\"\"\n",
    "    difficulties = ['Easy', 'Normal', 'Hard', 'Expert', 'ExpertPlus']\n",
    "    models = ['random', 'HMM', 'segmented_HMM', 'rate_modulated_segmented_HMM']\n",
    "    for file in files:\n",
    "        if file.endswith('.zip'):\n",
    "            with open(f\"../../data/raw/{file}\", 'rb') as zipfolder:\n",
    "                zip_file = zipfile.ZipFile(zipfolder)\n",
    "                #Extract zipped files into temp directory\n",
    "                for x in zip_file.filelist:\n",
    "                    zip_file.extract(x.filename, path = 'temp')\n",
    "            #Open info and save information\n",
    "            with open('./temp/info.dat', 'rb') as i:\n",
    "                info = json.load(i)\n",
    "            song_name = info['_songName']\n",
    "            song_file = info['_songFilename']\n",
    "            os.rename(f\"./temp/{song_file}\", f\"./song/song.egg\")\n",
    "            for difficulty in difficulties:\n",
    "                for model in models:\n",
    "                    abb = ''\n",
    "                    if model == 'random':\n",
    "                        abb = 'm2'\n",
    "                    elif model == 'HMM':\n",
    "                        abb = 'm3'\n",
    "                    elif model == 'segmented_HMM':\n",
    "                        abb = 'm4'\n",
    "                    elif model == 'rate_modulated_segmented_HMM':\n",
    "                        abb = 'm5'\n",
    "                    try:\n",
    "                        bms.beat_map_synthesizer(f\"./song/song.egg\", f\"{song_name}_{difficulty}_{abb}\", difficulty, model)\n",
    "                    except Exception as err:\n",
    "                        print(f\"{file}: \\n {err}\")\n",
    "            #Delete song\n",
    "            os.remove(f\"./song/song.egg\")\n",
    "            #Delete temp directory\n",
    "            filelist = [ f for f in os.listdir('temp')]\n",
    "            for f in filelist:\n",
    "                os.remove(os.path.join('temp', f))\n",
    "            os.rmdir('temp')"
   ]
  },
  {
   "cell_type": "code",
   "execution_count": 25,
   "metadata": {},
   "outputs": [
    {
     "name": "stdout",
     "output_type": "stream",
     "text": [
      "Loading Song...\n"
     ]
    },
    {
     "name": "stderr",
     "output_type": "stream",
     "text": [
      "/opt/anaconda3/envs/BSMapSynth-env/lib/python3.6/site-packages/librosa/core/audio.py:146: UserWarning: PySoundFile failed. Trying audioread instead.\n",
      "  warnings.warn('PySoundFile failed. Trying audioread instead.')\n"
     ]
    },
    {
     "name": "stdout",
     "output_type": "stream",
     "text": [
      "Song loaded successfully!\n",
      "Random mapping...\n",
      "Mapping done!\n",
      "Writing files to disk...\n",
      "Converting music file...\n",
      "Zipping folder...\n",
      "Finished! Look for zipped folder in your current path, unzip the folder, and place in the 'CustomMusic' folder in the Beat Saber directory\n",
      "Loading Song...\n"
     ]
    },
    {
     "name": "stderr",
     "output_type": "stream",
     "text": [
      "/opt/anaconda3/envs/BSMapSynth-env/lib/python3.6/site-packages/librosa/core/audio.py:146: UserWarning: PySoundFile failed. Trying audioread instead.\n",
      "  warnings.warn('PySoundFile failed. Trying audioread instead.')\n"
     ]
    },
    {
     "name": "stdout",
     "output_type": "stream",
     "text": [
      "Song loaded successfully!\n",
      "Mapping with Hidden Markov Model...\n",
      "Mapping done!\n",
      "Writing files to disk...\n",
      "Converting music file...\n",
      "Zipping folder...\n",
      "Finished! Look for zipped folder in your current path, unzip the folder, and place in the 'CustomMusic' folder in the Beat Saber directory\n",
      "Loading Song...\n"
     ]
    },
    {
     "name": "stderr",
     "output_type": "stream",
     "text": [
      "/opt/anaconda3/envs/BSMapSynth-env/lib/python3.6/site-packages/librosa/core/audio.py:146: UserWarning: PySoundFile failed. Trying audioread instead.\n",
      "  warnings.warn('PySoundFile failed. Trying audioread instead.')\n"
     ]
    },
    {
     "name": "stdout",
     "output_type": "stream",
     "text": [
      "Song loaded successfully!\n",
      "Mapping with segmented Hidden Markov Model...\n",
      "Mapping done!\n",
      "Writing files to disk...\n",
      "Converting music file...\n",
      "Zipping folder...\n",
      "Finished! Look for zipped folder in your current path, unzip the folder, and place in the 'CustomMusic' folder in the Beat Saber directory\n",
      "Loading Song...\n"
     ]
    },
    {
     "name": "stderr",
     "output_type": "stream",
     "text": [
      "/opt/anaconda3/envs/BSMapSynth-env/lib/python3.6/site-packages/librosa/core/audio.py:146: UserWarning: PySoundFile failed. Trying audioread instead.\n",
      "  warnings.warn('PySoundFile failed. Trying audioread instead.')\n"
     ]
    },
    {
     "name": "stdout",
     "output_type": "stream",
     "text": [
      "Song loaded successfully!\n",
      "Mapping with rate modulated segmented Hidden Markov Model...\n",
      "Mapping done!\n",
      "Writing files to disk...\n",
      "Converting music file...\n",
      "Zipping folder...\n",
      "Finished! Look for zipped folder in your current path, unzip the folder, and place in the 'CustomMusic' folder in the Beat Saber directory\n",
      "Loading Song...\n"
     ]
    },
    {
     "name": "stderr",
     "output_type": "stream",
     "text": [
      "/opt/anaconda3/envs/BSMapSynth-env/lib/python3.6/site-packages/librosa/core/audio.py:146: UserWarning: PySoundFile failed. Trying audioread instead.\n",
      "  warnings.warn('PySoundFile failed. Trying audioread instead.')\n"
     ]
    },
    {
     "name": "stdout",
     "output_type": "stream",
     "text": [
      "Song loaded successfully!\n",
      "Random mapping...\n",
      "Mapping done!\n",
      "Writing files to disk...\n",
      "Converting music file...\n",
      "Zipping folder...\n",
      "Finished! Look for zipped folder in your current path, unzip the folder, and place in the 'CustomMusic' folder in the Beat Saber directory\n",
      "Loading Song...\n"
     ]
    },
    {
     "name": "stderr",
     "output_type": "stream",
     "text": [
      "/opt/anaconda3/envs/BSMapSynth-env/lib/python3.6/site-packages/librosa/core/audio.py:146: UserWarning: PySoundFile failed. Trying audioread instead.\n",
      "  warnings.warn('PySoundFile failed. Trying audioread instead.')\n"
     ]
    },
    {
     "name": "stdout",
     "output_type": "stream",
     "text": [
      "Song loaded successfully!\n",
      "Mapping with Hidden Markov Model...\n",
      "Mapping done!\n",
      "Writing files to disk...\n",
      "Converting music file...\n",
      "Zipping folder...\n",
      "Finished! Look for zipped folder in your current path, unzip the folder, and place in the 'CustomMusic' folder in the Beat Saber directory\n",
      "Loading Song...\n"
     ]
    },
    {
     "name": "stderr",
     "output_type": "stream",
     "text": [
      "/opt/anaconda3/envs/BSMapSynth-env/lib/python3.6/site-packages/librosa/core/audio.py:146: UserWarning: PySoundFile failed. Trying audioread instead.\n",
      "  warnings.warn('PySoundFile failed. Trying audioread instead.')\n"
     ]
    },
    {
     "name": "stdout",
     "output_type": "stream",
     "text": [
      "Song loaded successfully!\n",
      "Mapping with segmented Hidden Markov Model...\n",
      "Mapping done!\n",
      "Writing files to disk...\n",
      "Converting music file...\n",
      "Zipping folder...\n",
      "Finished! Look for zipped folder in your current path, unzip the folder, and place in the 'CustomMusic' folder in the Beat Saber directory\n",
      "Loading Song...\n"
     ]
    },
    {
     "name": "stderr",
     "output_type": "stream",
     "text": [
      "/opt/anaconda3/envs/BSMapSynth-env/lib/python3.6/site-packages/librosa/core/audio.py:146: UserWarning: PySoundFile failed. Trying audioread instead.\n",
      "  warnings.warn('PySoundFile failed. Trying audioread instead.')\n"
     ]
    },
    {
     "name": "stdout",
     "output_type": "stream",
     "text": [
      "Song loaded successfully!\n",
      "Mapping with rate modulated segmented Hidden Markov Model...\n",
      "Mapping done!\n",
      "Writing files to disk...\n",
      "Converting music file...\n",
      "Zipping folder...\n",
      "Finished! Look for zipped folder in your current path, unzip the folder, and place in the 'CustomMusic' folder in the Beat Saber directory\n",
      "Loading Song...\n"
     ]
    },
    {
     "name": "stderr",
     "output_type": "stream",
     "text": [
      "/opt/anaconda3/envs/BSMapSynth-env/lib/python3.6/site-packages/librosa/core/audio.py:146: UserWarning: PySoundFile failed. Trying audioread instead.\n",
      "  warnings.warn('PySoundFile failed. Trying audioread instead.')\n"
     ]
    },
    {
     "name": "stdout",
     "output_type": "stream",
     "text": [
      "Song loaded successfully!\n",
      "Random mapping...\n",
      "Mapping done!\n",
      "Writing files to disk...\n",
      "Converting music file...\n",
      "Zipping folder...\n",
      "Finished! Look for zipped folder in your current path, unzip the folder, and place in the 'CustomMusic' folder in the Beat Saber directory\n",
      "Loading Song...\n"
     ]
    },
    {
     "name": "stderr",
     "output_type": "stream",
     "text": [
      "/opt/anaconda3/envs/BSMapSynth-env/lib/python3.6/site-packages/librosa/core/audio.py:146: UserWarning: PySoundFile failed. Trying audioread instead.\n",
      "  warnings.warn('PySoundFile failed. Trying audioread instead.')\n"
     ]
    },
    {
     "name": "stdout",
     "output_type": "stream",
     "text": [
      "Song loaded successfully!\n",
      "Mapping with Hidden Markov Model...\n",
      "Mapping done!\n",
      "Writing files to disk...\n",
      "Converting music file...\n",
      "Zipping folder...\n",
      "Finished! Look for zipped folder in your current path, unzip the folder, and place in the 'CustomMusic' folder in the Beat Saber directory\n",
      "Loading Song...\n"
     ]
    },
    {
     "name": "stderr",
     "output_type": "stream",
     "text": [
      "/opt/anaconda3/envs/BSMapSynth-env/lib/python3.6/site-packages/librosa/core/audio.py:146: UserWarning: PySoundFile failed. Trying audioread instead.\n",
      "  warnings.warn('PySoundFile failed. Trying audioread instead.')\n"
     ]
    },
    {
     "name": "stdout",
     "output_type": "stream",
     "text": [
      "Song loaded successfully!\n",
      "Mapping with segmented Hidden Markov Model...\n",
      "Mapping done!\n",
      "Writing files to disk...\n",
      "Converting music file...\n",
      "Zipping folder...\n",
      "Finished! Look for zipped folder in your current path, unzip the folder, and place in the 'CustomMusic' folder in the Beat Saber directory\n",
      "Loading Song...\n"
     ]
    },
    {
     "name": "stderr",
     "output_type": "stream",
     "text": [
      "/opt/anaconda3/envs/BSMapSynth-env/lib/python3.6/site-packages/librosa/core/audio.py:146: UserWarning: PySoundFile failed. Trying audioread instead.\n",
      "  warnings.warn('PySoundFile failed. Trying audioread instead.')\n"
     ]
    },
    {
     "name": "stdout",
     "output_type": "stream",
     "text": [
      "Song loaded successfully!\n",
      "Mapping with rate modulated segmented Hidden Markov Model...\n"
     ]
    },
    {
     "name": "stderr",
     "output_type": "stream",
     "text": [
      "/opt/anaconda3/envs/BSMapSynth-env/lib/python3.6/site-packages/pandas/core/reshape/merge.py:1100: UserWarning: You are merging on int and float columns where the float values are not equal to their int representation\n",
      "  UserWarning,\n"
     ]
    },
    {
     "name": "stdout",
     "output_type": "stream",
     "text": [
      "Mapping done!\n",
      "Writing files to disk...\n",
      "Converting music file...\n",
      "Zipping folder...\n",
      "Finished! Look for zipped folder in your current path, unzip the folder, and place in the 'CustomMusic' folder in the Beat Saber directory\n",
      "Loading Song...\n"
     ]
    },
    {
     "name": "stderr",
     "output_type": "stream",
     "text": [
      "/opt/anaconda3/envs/BSMapSynth-env/lib/python3.6/site-packages/librosa/core/audio.py:146: UserWarning: PySoundFile failed. Trying audioread instead.\n",
      "  warnings.warn('PySoundFile failed. Trying audioread instead.')\n"
     ]
    },
    {
     "name": "stdout",
     "output_type": "stream",
     "text": [
      "Song loaded successfully!\n",
      "Random mapping...\n",
      "Mapping done!\n",
      "Writing files to disk...\n",
      "Converting music file...\n",
      "Zipping folder...\n",
      "Finished! Look for zipped folder in your current path, unzip the folder, and place in the 'CustomMusic' folder in the Beat Saber directory\n",
      "Loading Song...\n"
     ]
    },
    {
     "name": "stderr",
     "output_type": "stream",
     "text": [
      "/opt/anaconda3/envs/BSMapSynth-env/lib/python3.6/site-packages/librosa/core/audio.py:146: UserWarning: PySoundFile failed. Trying audioread instead.\n",
      "  warnings.warn('PySoundFile failed. Trying audioread instead.')\n"
     ]
    },
    {
     "name": "stdout",
     "output_type": "stream",
     "text": [
      "Song loaded successfully!\n",
      "Mapping with Hidden Markov Model...\n",
      "Mapping done!\n",
      "Writing files to disk...\n",
      "Converting music file...\n",
      "Zipping folder...\n",
      "Finished! Look for zipped folder in your current path, unzip the folder, and place in the 'CustomMusic' folder in the Beat Saber directory\n",
      "Loading Song...\n"
     ]
    },
    {
     "name": "stderr",
     "output_type": "stream",
     "text": [
      "/opt/anaconda3/envs/BSMapSynth-env/lib/python3.6/site-packages/librosa/core/audio.py:146: UserWarning: PySoundFile failed. Trying audioread instead.\n",
      "  warnings.warn('PySoundFile failed. Trying audioread instead.')\n"
     ]
    },
    {
     "name": "stdout",
     "output_type": "stream",
     "text": [
      "Song loaded successfully!\n",
      "Mapping with segmented Hidden Markov Model...\n",
      "Mapping done!\n",
      "Writing files to disk...\n",
      "Converting music file...\n",
      "Zipping folder...\n",
      "Finished! Look for zipped folder in your current path, unzip the folder, and place in the 'CustomMusic' folder in the Beat Saber directory\n",
      "Loading Song...\n"
     ]
    },
    {
     "name": "stderr",
     "output_type": "stream",
     "text": [
      "/opt/anaconda3/envs/BSMapSynth-env/lib/python3.6/site-packages/librosa/core/audio.py:146: UserWarning: PySoundFile failed. Trying audioread instead.\n",
      "  warnings.warn('PySoundFile failed. Trying audioread instead.')\n"
     ]
    },
    {
     "name": "stdout",
     "output_type": "stream",
     "text": [
      "Song loaded successfully!\n",
      "Mapping with rate modulated segmented Hidden Markov Model...\n"
     ]
    },
    {
     "name": "stderr",
     "output_type": "stream",
     "text": [
      "/opt/anaconda3/envs/BSMapSynth-env/lib/python3.6/site-packages/pandas/core/reshape/merge.py:1100: UserWarning: You are merging on int and float columns where the float values are not equal to their int representation\n",
      "  UserWarning,\n"
     ]
    },
    {
     "name": "stdout",
     "output_type": "stream",
     "text": [
      "Mapping done!\n",
      "Writing files to disk...\n",
      "Converting music file...\n",
      "Zipping folder...\n",
      "Finished! Look for zipped folder in your current path, unzip the folder, and place in the 'CustomMusic' folder in the Beat Saber directory\n",
      "Loading Song...\n"
     ]
    },
    {
     "name": "stderr",
     "output_type": "stream",
     "text": [
      "/opt/anaconda3/envs/BSMapSynth-env/lib/python3.6/site-packages/librosa/core/audio.py:146: UserWarning: PySoundFile failed. Trying audioread instead.\n",
      "  warnings.warn('PySoundFile failed. Trying audioread instead.')\n"
     ]
    },
    {
     "name": "stdout",
     "output_type": "stream",
     "text": [
      "Song loaded successfully!\n",
      "Random mapping...\n",
      "Mapping done!\n",
      "Writing files to disk...\n",
      "Converting music file...\n",
      "Zipping folder...\n",
      "Finished! Look for zipped folder in your current path, unzip the folder, and place in the 'CustomMusic' folder in the Beat Saber directory\n",
      "Loading Song...\n"
     ]
    },
    {
     "name": "stderr",
     "output_type": "stream",
     "text": [
      "/opt/anaconda3/envs/BSMapSynth-env/lib/python3.6/site-packages/librosa/core/audio.py:146: UserWarning: PySoundFile failed. Trying audioread instead.\n",
      "  warnings.warn('PySoundFile failed. Trying audioread instead.')\n"
     ]
    },
    {
     "name": "stdout",
     "output_type": "stream",
     "text": [
      "Song loaded successfully!\n",
      "Mapping with Hidden Markov Model...\n",
      "Mapping done!\n",
      "Writing files to disk...\n",
      "Converting music file...\n",
      "Zipping folder...\n",
      "Finished! Look for zipped folder in your current path, unzip the folder, and place in the 'CustomMusic' folder in the Beat Saber directory\n",
      "Loading Song...\n"
     ]
    },
    {
     "name": "stderr",
     "output_type": "stream",
     "text": [
      "/opt/anaconda3/envs/BSMapSynth-env/lib/python3.6/site-packages/librosa/core/audio.py:146: UserWarning: PySoundFile failed. Trying audioread instead.\n",
      "  warnings.warn('PySoundFile failed. Trying audioread instead.')\n"
     ]
    },
    {
     "name": "stdout",
     "output_type": "stream",
     "text": [
      "Song loaded successfully!\n",
      "Mapping with segmented Hidden Markov Model...\n",
      "Mapping done!\n",
      "Writing files to disk...\n",
      "Converting music file...\n",
      "Zipping folder...\n",
      "Finished! Look for zipped folder in your current path, unzip the folder, and place in the 'CustomMusic' folder in the Beat Saber directory\n",
      "Loading Song...\n"
     ]
    },
    {
     "name": "stderr",
     "output_type": "stream",
     "text": [
      "/opt/anaconda3/envs/BSMapSynth-env/lib/python3.6/site-packages/librosa/core/audio.py:146: UserWarning: PySoundFile failed. Trying audioread instead.\n",
      "  warnings.warn('PySoundFile failed. Trying audioread instead.')\n"
     ]
    },
    {
     "name": "stdout",
     "output_type": "stream",
     "text": [
      "Song loaded successfully!\n",
      "Mapping with rate modulated segmented Hidden Markov Model...\n"
     ]
    },
    {
     "name": "stderr",
     "output_type": "stream",
     "text": [
      "/opt/anaconda3/envs/BSMapSynth-env/lib/python3.6/site-packages/pandas/core/reshape/merge.py:1100: UserWarning: You are merging on int and float columns where the float values are not equal to their int representation\n",
      "  UserWarning,\n"
     ]
    },
    {
     "name": "stdout",
     "output_type": "stream",
     "text": [
      "Mapping done!\n",
      "Writing files to disk...\n",
      "Converting music file...\n",
      "Zipping folder...\n",
      "Finished! Look for zipped folder in your current path, unzip the folder, and place in the 'CustomMusic' folder in the Beat Saber directory\n",
      "Loading Song...\n"
     ]
    },
    {
     "name": "stderr",
     "output_type": "stream",
     "text": [
      "/opt/anaconda3/envs/BSMapSynth-env/lib/python3.6/site-packages/librosa/core/audio.py:146: UserWarning: PySoundFile failed. Trying audioread instead.\n",
      "  warnings.warn('PySoundFile failed. Trying audioread instead.')\n"
     ]
    },
    {
     "name": "stdout",
     "output_type": "stream",
     "text": [
      "Song loaded successfully!\n",
      "Random mapping...\n",
      "Mapping done!\n",
      "Writing files to disk...\n",
      "Converting music file...\n",
      "Zipping folder...\n",
      "Finished! Look for zipped folder in your current path, unzip the folder, and place in the 'CustomMusic' folder in the Beat Saber directory\n",
      "Loading Song...\n"
     ]
    },
    {
     "name": "stderr",
     "output_type": "stream",
     "text": [
      "/opt/anaconda3/envs/BSMapSynth-env/lib/python3.6/site-packages/librosa/core/audio.py:146: UserWarning: PySoundFile failed. Trying audioread instead.\n",
      "  warnings.warn('PySoundFile failed. Trying audioread instead.')\n"
     ]
    },
    {
     "name": "stdout",
     "output_type": "stream",
     "text": [
      "Song loaded successfully!\n",
      "Mapping with Hidden Markov Model...\n",
      "Mapping done!\n",
      "Writing files to disk...\n",
      "Converting music file...\n",
      "Zipping folder...\n",
      "Finished! Look for zipped folder in your current path, unzip the folder, and place in the 'CustomMusic' folder in the Beat Saber directory\n",
      "Loading Song...\n"
     ]
    },
    {
     "name": "stderr",
     "output_type": "stream",
     "text": [
      "/opt/anaconda3/envs/BSMapSynth-env/lib/python3.6/site-packages/librosa/core/audio.py:146: UserWarning: PySoundFile failed. Trying audioread instead.\n",
      "  warnings.warn('PySoundFile failed. Trying audioread instead.')\n"
     ]
    },
    {
     "name": "stdout",
     "output_type": "stream",
     "text": [
      "Song loaded successfully!\n",
      "Mapping with segmented Hidden Markov Model...\n",
      "192.zip: \n",
      " ('999,999,999,999,1,2,0,1,999,999,999,999', '0,1,0,1,999,999,999,999,999,999,999,999', '999,999,999,999,1,2,0,1,999,999,999,999', '0,1,0,1,999,999,999,999,999,999,999,999')\n",
      "Loading Song...\n"
     ]
    },
    {
     "name": "stderr",
     "output_type": "stream",
     "text": [
      "/opt/anaconda3/envs/BSMapSynth-env/lib/python3.6/site-packages/librosa/core/audio.py:146: UserWarning: PySoundFile failed. Trying audioread instead.\n",
      "  warnings.warn('PySoundFile failed. Trying audioread instead.')\n"
     ]
    },
    {
     "name": "stdout",
     "output_type": "stream",
     "text": [
      "Song loaded successfully!\n",
      "Mapping with rate modulated segmented Hidden Markov Model...\n"
     ]
    },
    {
     "name": "stderr",
     "output_type": "stream",
     "text": [
      "/opt/anaconda3/envs/BSMapSynth-env/lib/python3.6/site-packages/pandas/core/reshape/merge.py:1100: UserWarning: You are merging on int and float columns where the float values are not equal to their int representation\n",
      "  UserWarning,\n",
      "/opt/anaconda3/envs/BSMapSynth-env/lib/python3.6/site-packages/librosa/core/audio.py:146: UserWarning: PySoundFile failed. Trying audioread instead.\n",
      "  warnings.warn('PySoundFile failed. Trying audioread instead.')\n"
     ]
    },
    {
     "name": "stdout",
     "output_type": "stream",
     "text": [
      "Mapping done!\n",
      "Writing files to disk...\n",
      "Converting music file...\n",
      "Zipping folder...\n",
      "Finished! Look for zipped folder in your current path, unzip the folder, and place in the 'CustomMusic' folder in the Beat Saber directory\n",
      "Loading Song...\n",
      "Song loaded successfully!\n",
      "Random mapping...\n",
      "Mapping done!\n",
      "Writing files to disk...\n",
      "Converting music file...\n",
      "Zipping folder...\n",
      "Finished! Look for zipped folder in your current path, unzip the folder, and place in the 'CustomMusic' folder in the Beat Saber directory\n",
      "Loading Song...\n"
     ]
    },
    {
     "name": "stderr",
     "output_type": "stream",
     "text": [
      "/opt/anaconda3/envs/BSMapSynth-env/lib/python3.6/site-packages/librosa/core/audio.py:146: UserWarning: PySoundFile failed. Trying audioread instead.\n",
      "  warnings.warn('PySoundFile failed. Trying audioread instead.')\n"
     ]
    },
    {
     "name": "stdout",
     "output_type": "stream",
     "text": [
      "Song loaded successfully!\n",
      "Mapping with Hidden Markov Model...\n",
      "Mapping done!\n",
      "Writing files to disk...\n",
      "Converting music file...\n",
      "Zipping folder...\n",
      "Finished! Look for zipped folder in your current path, unzip the folder, and place in the 'CustomMusic' folder in the Beat Saber directory\n",
      "Loading Song...\n"
     ]
    },
    {
     "name": "stderr",
     "output_type": "stream",
     "text": [
      "/opt/anaconda3/envs/BSMapSynth-env/lib/python3.6/site-packages/librosa/core/audio.py:146: UserWarning: PySoundFile failed. Trying audioread instead.\n",
      "  warnings.warn('PySoundFile failed. Trying audioread instead.')\n"
     ]
    },
    {
     "name": "stdout",
     "output_type": "stream",
     "text": [
      "Song loaded successfully!\n",
      "Mapping with segmented Hidden Markov Model...\n",
      "192.zip: \n",
      " ('999,999,999,999,1,2,0,1,999,999,999,999', '0,0,0,1,999,999,999,999,999,999,999,999', '999,999,999,999,1,3,1,5,999,999,999,999', '999,999,999,999,1,3,0,1,999,999,999,999')\n",
      "Loading Song...\n"
     ]
    },
    {
     "name": "stderr",
     "output_type": "stream",
     "text": [
      "/opt/anaconda3/envs/BSMapSynth-env/lib/python3.6/site-packages/librosa/core/audio.py:146: UserWarning: PySoundFile failed. Trying audioread instead.\n",
      "  warnings.warn('PySoundFile failed. Trying audioread instead.')\n"
     ]
    },
    {
     "name": "stdout",
     "output_type": "stream",
     "text": [
      "Song loaded successfully!\n",
      "Mapping with rate modulated segmented Hidden Markov Model...\n"
     ]
    },
    {
     "name": "stderr",
     "output_type": "stream",
     "text": [
      "/opt/anaconda3/envs/BSMapSynth-env/lib/python3.6/site-packages/pandas/core/reshape/merge.py:1100: UserWarning: You are merging on int and float columns where the float values are not equal to their int representation\n",
      "  UserWarning,\n",
      "/opt/anaconda3/envs/BSMapSynth-env/lib/python3.6/site-packages/librosa/core/audio.py:146: UserWarning: PySoundFile failed. Trying audioread instead.\n",
      "  warnings.warn('PySoundFile failed. Trying audioread instead.')\n"
     ]
    },
    {
     "name": "stdout",
     "output_type": "stream",
     "text": [
      "Mapping done!\n",
      "Writing files to disk...\n",
      "Converting music file...\n",
      "Zipping folder...\n",
      "Finished! Look for zipped folder in your current path, unzip the folder, and place in the 'CustomMusic' folder in the Beat Saber directory\n",
      "Loading Song...\n",
      "Song loaded successfully!\n",
      "Random mapping...\n",
      "Mapping done!\n",
      "Writing files to disk...\n",
      "Converting music file...\n",
      "Zipping folder...\n",
      "Finished! Look for zipped folder in your current path, unzip the folder, and place in the 'CustomMusic' folder in the Beat Saber directory\n",
      "Loading Song...\n"
     ]
    },
    {
     "name": "stderr",
     "output_type": "stream",
     "text": [
      "/opt/anaconda3/envs/BSMapSynth-env/lib/python3.6/site-packages/librosa/core/audio.py:146: UserWarning: PySoundFile failed. Trying audioread instead.\n",
      "  warnings.warn('PySoundFile failed. Trying audioread instead.')\n"
     ]
    },
    {
     "name": "stdout",
     "output_type": "stream",
     "text": [
      "Song loaded successfully!\n",
      "Mapping with Hidden Markov Model...\n",
      "Mapping done!\n",
      "Writing files to disk...\n",
      "Converting music file...\n",
      "Zipping folder...\n",
      "Finished! Look for zipped folder in your current path, unzip the folder, and place in the 'CustomMusic' folder in the Beat Saber directory\n",
      "Loading Song...\n"
     ]
    },
    {
     "name": "stderr",
     "output_type": "stream",
     "text": [
      "/opt/anaconda3/envs/BSMapSynth-env/lib/python3.6/site-packages/librosa/core/audio.py:146: UserWarning: PySoundFile failed. Trying audioread instead.\n",
      "  warnings.warn('PySoundFile failed. Trying audioread instead.')\n"
     ]
    },
    {
     "name": "stdout",
     "output_type": "stream",
     "text": [
      "Song loaded successfully!\n",
      "Mapping with segmented Hidden Markov Model...\n",
      "192.zip: \n",
      " ('0,1,2,0,1,2,2,0,999,999,999,999', '0,1,0,1,1,2,0,1,999,999,999,999', '999,999,999,999,1,3,1,3,999,999,999,999', '0,0,1,2,999,999,999,999,999,999,999,999')\n",
      "Loading Song...\n"
     ]
    },
    {
     "name": "stderr",
     "output_type": "stream",
     "text": [
      "/opt/anaconda3/envs/BSMapSynth-env/lib/python3.6/site-packages/librosa/core/audio.py:146: UserWarning: PySoundFile failed. Trying audioread instead.\n",
      "  warnings.warn('PySoundFile failed. Trying audioread instead.')\n"
     ]
    },
    {
     "name": "stdout",
     "output_type": "stream",
     "text": [
      "Song loaded successfully!\n",
      "Mapping with rate modulated segmented Hidden Markov Model...\n"
     ]
    },
    {
     "name": "stderr",
     "output_type": "stream",
     "text": [
      "/opt/anaconda3/envs/BSMapSynth-env/lib/python3.6/site-packages/pandas/core/reshape/merge.py:1100: UserWarning: You are merging on int and float columns where the float values are not equal to their int representation\n",
      "  UserWarning,\n",
      "/opt/anaconda3/envs/BSMapSynth-env/lib/python3.6/site-packages/librosa/core/audio.py:146: UserWarning: PySoundFile failed. Trying audioread instead.\n",
      "  warnings.warn('PySoundFile failed. Trying audioread instead.')\n"
     ]
    },
    {
     "name": "stdout",
     "output_type": "stream",
     "text": [
      "Mapping done!\n",
      "Writing files to disk...\n",
      "Converting music file...\n",
      "Zipping folder...\n",
      "Finished! Look for zipped folder in your current path, unzip the folder, and place in the 'CustomMusic' folder in the Beat Saber directory\n",
      "Loading Song...\n",
      "Song loaded successfully!\n",
      "Random mapping...\n",
      "Mapping done!\n",
      "Writing files to disk...\n",
      "Converting music file...\n",
      "Zipping folder...\n",
      "Finished! Look for zipped folder in your current path, unzip the folder, and place in the 'CustomMusic' folder in the Beat Saber directory\n",
      "Loading Song...\n"
     ]
    },
    {
     "name": "stderr",
     "output_type": "stream",
     "text": [
      "/opt/anaconda3/envs/BSMapSynth-env/lib/python3.6/site-packages/librosa/core/audio.py:146: UserWarning: PySoundFile failed. Trying audioread instead.\n",
      "  warnings.warn('PySoundFile failed. Trying audioread instead.')\n"
     ]
    },
    {
     "name": "stdout",
     "output_type": "stream",
     "text": [
      "Song loaded successfully!\n",
      "Mapping with Hidden Markov Model...\n",
      "Mapping done!\n",
      "Writing files to disk...\n",
      "Converting music file...\n",
      "Zipping folder...\n",
      "Finished! Look for zipped folder in your current path, unzip the folder, and place in the 'CustomMusic' folder in the Beat Saber directory\n",
      "Loading Song...\n"
     ]
    },
    {
     "name": "stderr",
     "output_type": "stream",
     "text": [
      "/opt/anaconda3/envs/BSMapSynth-env/lib/python3.6/site-packages/librosa/core/audio.py:146: UserWarning: PySoundFile failed. Trying audioread instead.\n",
      "  warnings.warn('PySoundFile failed. Trying audioread instead.')\n"
     ]
    },
    {
     "name": "stdout",
     "output_type": "stream",
     "text": [
      "Song loaded successfully!\n",
      "Mapping with segmented Hidden Markov Model...\n",
      "192.zip: \n",
      " ('0,2,0,7,999,999,999,999,999,999,999,999', '0,3,1,5,999,999,999,999,999,999,999,999', '0,1,0,6,999,999,999,999,999,999,999,999', '0,0,2,4,999,999,999,999,999,999,999,999')\n",
      "Loading Song...\n"
     ]
    },
    {
     "name": "stderr",
     "output_type": "stream",
     "text": [
      "/opt/anaconda3/envs/BSMapSynth-env/lib/python3.6/site-packages/librosa/core/audio.py:146: UserWarning: PySoundFile failed. Trying audioread instead.\n",
      "  warnings.warn('PySoundFile failed. Trying audioread instead.')\n"
     ]
    },
    {
     "name": "stdout",
     "output_type": "stream",
     "text": [
      "Song loaded successfully!\n",
      "Mapping with rate modulated segmented Hidden Markov Model...\n"
     ]
    },
    {
     "name": "stderr",
     "output_type": "stream",
     "text": [
      "/opt/anaconda3/envs/BSMapSynth-env/lib/python3.6/site-packages/pandas/core/reshape/merge.py:1100: UserWarning: You are merging on int and float columns where the float values are not equal to their int representation\n",
      "  UserWarning,\n"
     ]
    },
    {
     "name": "stdout",
     "output_type": "stream",
     "text": [
      "Mapping done!\n",
      "Writing files to disk...\n",
      "Converting music file...\n",
      "Zipping folder...\n",
      "Finished! Look for zipped folder in your current path, unzip the folder, and place in the 'CustomMusic' folder in the Beat Saber directory\n",
      "Loading Song...\n"
     ]
    },
    {
     "name": "stderr",
     "output_type": "stream",
     "text": [
      "/opt/anaconda3/envs/BSMapSynth-env/lib/python3.6/site-packages/librosa/core/audio.py:146: UserWarning: PySoundFile failed. Trying audioread instead.\n",
      "  warnings.warn('PySoundFile failed. Trying audioread instead.')\n"
     ]
    },
    {
     "name": "stdout",
     "output_type": "stream",
     "text": [
      "Song loaded successfully!\n",
      "Random mapping...\n",
      "Mapping done!\n",
      "Writing files to disk...\n",
      "Converting music file...\n",
      "Zipping folder...\n",
      "Finished! Look for zipped folder in your current path, unzip the folder, and place in the 'CustomMusic' folder in the Beat Saber directory\n",
      "Loading Song...\n"
     ]
    },
    {
     "name": "stderr",
     "output_type": "stream",
     "text": [
      "/opt/anaconda3/envs/BSMapSynth-env/lib/python3.6/site-packages/librosa/core/audio.py:146: UserWarning: PySoundFile failed. Trying audioread instead.\n",
      "  warnings.warn('PySoundFile failed. Trying audioread instead.')\n"
     ]
    },
    {
     "name": "stdout",
     "output_type": "stream",
     "text": [
      "Song loaded successfully!\n",
      "Mapping with Hidden Markov Model...\n",
      "Mapping done!\n",
      "Writing files to disk...\n",
      "Converting music file...\n",
      "Zipping folder...\n",
      "Finished! Look for zipped folder in your current path, unzip the folder, and place in the 'CustomMusic' folder in the Beat Saber directory\n",
      "Loading Song...\n"
     ]
    },
    {
     "name": "stderr",
     "output_type": "stream",
     "text": [
      "/opt/anaconda3/envs/BSMapSynth-env/lib/python3.6/site-packages/librosa/core/audio.py:146: UserWarning: PySoundFile failed. Trying audioread instead.\n",
      "  warnings.warn('PySoundFile failed. Trying audioread instead.')\n"
     ]
    },
    {
     "name": "stdout",
     "output_type": "stream",
     "text": [
      "Song loaded successfully!\n",
      "Mapping with segmented Hidden Markov Model...\n",
      "192.zip: \n",
      " ('0,0,0,1,1,1,0,1,999,999,999,999', '0,0,0,0,1,1,0,0,999,999,999,999', '0,2,0,1,1,3,0,1,999,999,999,999', '0,2,0,0,1,3,0,0,999,999,999,999')\n",
      "Loading Song...\n"
     ]
    },
    {
     "name": "stderr",
     "output_type": "stream",
     "text": [
      "/opt/anaconda3/envs/BSMapSynth-env/lib/python3.6/site-packages/librosa/core/audio.py:146: UserWarning: PySoundFile failed. Trying audioread instead.\n",
      "  warnings.warn('PySoundFile failed. Trying audioread instead.')\n"
     ]
    },
    {
     "name": "stdout",
     "output_type": "stream",
     "text": [
      "Song loaded successfully!\n",
      "Mapping with rate modulated segmented Hidden Markov Model...\n"
     ]
    },
    {
     "ename": "KeyboardInterrupt",
     "evalue": "",
     "output_type": "error",
     "traceback": [
      "\u001b[0;31m---------------------------------------------------------------------------\u001b[0m",
      "\u001b[0;31mKeyboardInterrupt\u001b[0m                         Traceback (most recent call last)",
      "\u001b[0;32m<ipython-input-25-085d7b94c62a>\u001b[0m in \u001b[0;36m<module>\u001b[0;34m\u001b[0m\n\u001b[0;32m----> 1\u001b[0;31m \u001b[0mmodel_based_maps\u001b[0m\u001b[0;34m(\u001b[0m\u001b[0mfiles\u001b[0m\u001b[0;34m)\u001b[0m\u001b[0;34m\u001b[0m\u001b[0;34m\u001b[0m\u001b[0m\n\u001b[0m",
      "\u001b[0;32m<ipython-input-24-3f917933dae0>\u001b[0m in \u001b[0;36mmodel_based_maps\u001b[0;34m(files)\u001b[0m\n\u001b[1;32m     28\u001b[0m                         \u001b[0mabb\u001b[0m \u001b[0;34m=\u001b[0m \u001b[0;34m'm5'\u001b[0m\u001b[0;34m\u001b[0m\u001b[0;34m\u001b[0m\u001b[0m\n\u001b[1;32m     29\u001b[0m                     \u001b[0;32mtry\u001b[0m\u001b[0;34m:\u001b[0m\u001b[0;34m\u001b[0m\u001b[0;34m\u001b[0m\u001b[0m\n\u001b[0;32m---> 30\u001b[0;31m                         \u001b[0mbms\u001b[0m\u001b[0;34m.\u001b[0m\u001b[0mbeat_map_synthesizer\u001b[0m\u001b[0;34m(\u001b[0m\u001b[0;34mf\"./song/song.egg\"\u001b[0m\u001b[0;34m,\u001b[0m \u001b[0;34mf\"{song_name}_{difficulty}_{abb}\"\u001b[0m\u001b[0;34m,\u001b[0m \u001b[0mdifficulty\u001b[0m\u001b[0;34m,\u001b[0m \u001b[0mmodel\u001b[0m\u001b[0;34m)\u001b[0m\u001b[0;34m\u001b[0m\u001b[0;34m\u001b[0m\u001b[0m\n\u001b[0m\u001b[1;32m     31\u001b[0m                     \u001b[0;32mexcept\u001b[0m \u001b[0mException\u001b[0m \u001b[0;32mas\u001b[0m \u001b[0merr\u001b[0m\u001b[0;34m:\u001b[0m\u001b[0;34m\u001b[0m\u001b[0;34m\u001b[0m\u001b[0m\n\u001b[1;32m     32\u001b[0m                         \u001b[0mprint\u001b[0m\u001b[0;34m(\u001b[0m\u001b[0;34mf\"{file}: \\n {err}\"\u001b[0m\u001b[0;34m)\u001b[0m\u001b[0;34m\u001b[0m\u001b[0;34m\u001b[0m\u001b[0m\n",
      "\u001b[0;32m~/BMS_testing/src/beatmapsynth.py\u001b[0m in \u001b[0;36mbeat_map_synthesizer\u001b[0;34m(song_path, song_name, difficulty, model, k, version)\u001b[0m\n\u001b[1;32m     49\u001b[0m         \u001b[0msegmented_HMM_mapper\u001b[0m\u001b[0;34m(\u001b[0m\u001b[0msong_path\u001b[0m\u001b[0;34m,\u001b[0m \u001b[0msong_name\u001b[0m\u001b[0;34m,\u001b[0m \u001b[0mdifficulty\u001b[0m\u001b[0;34m,\u001b[0m \u001b[0mk\u001b[0m \u001b[0;34m=\u001b[0m \u001b[0mk\u001b[0m\u001b[0;34m,\u001b[0m \u001b[0mversion\u001b[0m \u001b[0;34m=\u001b[0m \u001b[0mversion\u001b[0m\u001b[0;34m)\u001b[0m\u001b[0;34m\u001b[0m\u001b[0;34m\u001b[0m\u001b[0m\n\u001b[1;32m     50\u001b[0m     \u001b[0;32melif\u001b[0m \u001b[0mmodel\u001b[0m \u001b[0;34m==\u001b[0m \u001b[0;34m'rate_modulated_segmented_HMM'\u001b[0m\u001b[0;34m:\u001b[0m\u001b[0;34m\u001b[0m\u001b[0;34m\u001b[0m\u001b[0m\n\u001b[0;32m---> 51\u001b[0;31m         \u001b[0mrate_modulated_segmented_HMM_mapper\u001b[0m\u001b[0;34m(\u001b[0m\u001b[0msong_path\u001b[0m\u001b[0;34m,\u001b[0m \u001b[0msong_name\u001b[0m\u001b[0;34m,\u001b[0m \u001b[0mdifficulty\u001b[0m\u001b[0;34m,\u001b[0m \u001b[0mversion\u001b[0m \u001b[0;34m=\u001b[0m \u001b[0mversion\u001b[0m\u001b[0;34m,\u001b[0m \u001b[0mk\u001b[0m \u001b[0;34m=\u001b[0m \u001b[0mk\u001b[0m\u001b[0;34m)\u001b[0m\u001b[0;34m\u001b[0m\u001b[0;34m\u001b[0m\u001b[0m\n\u001b[0m\u001b[1;32m     52\u001b[0m     \u001b[0;32melse\u001b[0m\u001b[0;34m:\u001b[0m\u001b[0;34m\u001b[0m\u001b[0;34m\u001b[0m\u001b[0m\n\u001b[1;32m     53\u001b[0m         \u001b[0mprint\u001b[0m\u001b[0;34m(\u001b[0m\u001b[0;34m'Please specify model for mapping.'\u001b[0m\u001b[0;34m)\u001b[0m\u001b[0;34m\u001b[0m\u001b[0;34m\u001b[0m\u001b[0m\n",
      "\u001b[0;32m~/BMS_testing/src/beatmapsynth.py\u001b[0m in \u001b[0;36mrate_modulated_segmented_HMM_mapper\u001b[0;34m(song_path, song_name, difficulty, version, k)\u001b[0m\n\u001b[1;32m    502\u001b[0m     \u001b[0;31m#Write lists for note placement, event placement, and obstacle placement\u001b[0m\u001b[0;34m\u001b[0m\u001b[0;34m\u001b[0m\u001b[0;34m\u001b[0m\u001b[0m\n\u001b[1;32m    503\u001b[0m     \u001b[0mprint\u001b[0m\u001b[0;34m(\u001b[0m\u001b[0;34m\"Mapping with rate modulated segmented Hidden Markov Model...\"\u001b[0m\u001b[0;34m)\u001b[0m\u001b[0;34m\u001b[0m\u001b[0;34m\u001b[0m\u001b[0m\n\u001b[0;32m--> 504\u001b[0;31m     \u001b[0mnotes_list\u001b[0m\u001b[0;34m,\u001b[0m \u001b[0mmodulated_beat_list\u001b[0m \u001b[0;34m=\u001b[0m \u001b[0mrate_modulated_segmented_HMM_notes_writer\u001b[0m\u001b[0;34m(\u001b[0m\u001b[0my\u001b[0m\u001b[0;34m,\u001b[0m \u001b[0msr\u001b[0m\u001b[0;34m,\u001b[0m \u001b[0mk\u001b[0m\u001b[0;34m,\u001b[0m \u001b[0mdifficulty\u001b[0m\u001b[0;34m,\u001b[0m \u001b[0mversion\u001b[0m\u001b[0;34m)\u001b[0m\u001b[0;34m\u001b[0m\u001b[0;34m\u001b[0m\u001b[0m\n\u001b[0m\u001b[1;32m    505\u001b[0m     \u001b[0mevents_list\u001b[0m \u001b[0;34m=\u001b[0m \u001b[0mevents_writer\u001b[0m\u001b[0;34m(\u001b[0m\u001b[0mmodulated_beat_list\u001b[0m\u001b[0;34m)\u001b[0m\u001b[0;34m\u001b[0m\u001b[0;34m\u001b[0m\u001b[0m\n\u001b[1;32m    506\u001b[0m     \u001b[0mobstacles_list\u001b[0m \u001b[0;34m=\u001b[0m \u001b[0mobstacles_writer\u001b[0m\u001b[0;34m(\u001b[0m\u001b[0mmodulated_beat_list\u001b[0m\u001b[0;34m,\u001b[0m \u001b[0mdifficulty\u001b[0m\u001b[0;34m)\u001b[0m\u001b[0;34m\u001b[0m\u001b[0;34m\u001b[0m\u001b[0m\n",
      "\u001b[0;32m~/BMS_testing/src/beatmapsynth.py\u001b[0m in \u001b[0;36mrate_modulated_segmented_HMM_notes_writer\u001b[0;34m(y, sr, k, difficulty, version)\u001b[0m\n\u001b[1;32m    670\u001b[0m \u001b[0;34m\u001b[0m\u001b[0m\n\u001b[1;32m    671\u001b[0m     \u001b[0msegments\u001b[0m\u001b[0;34m,\u001b[0m \u001b[0mbeat_times\u001b[0m\u001b[0;34m,\u001b[0m \u001b[0mbpm\u001b[0m \u001b[0;34m=\u001b[0m \u001b[0mlaplacian_segmentation\u001b[0m\u001b[0;34m(\u001b[0m\u001b[0my\u001b[0m\u001b[0;34m,\u001b[0m \u001b[0msr\u001b[0m\u001b[0;34m,\u001b[0m \u001b[0mk\u001b[0m\u001b[0;34m)\u001b[0m\u001b[0;34m\u001b[0m\u001b[0;34m\u001b[0m\u001b[0m\n\u001b[0;32m--> 672\u001b[0;31m     \u001b[0mmodulated_beat_list\u001b[0m \u001b[0;34m=\u001b[0m \u001b[0mamplitude_rate_modulation\u001b[0m\u001b[0;34m(\u001b[0m\u001b[0my\u001b[0m\u001b[0;34m,\u001b[0m \u001b[0msr\u001b[0m\u001b[0;34m,\u001b[0m \u001b[0mdifficulty\u001b[0m\u001b[0;34m)\u001b[0m\u001b[0;34m\u001b[0m\u001b[0;34m\u001b[0m\u001b[0m\n\u001b[0m\u001b[1;32m    673\u001b[0m     \u001b[0msegments_df\u001b[0m \u001b[0;34m=\u001b[0m \u001b[0msegments_to_df_rate_modulated\u001b[0m\u001b[0;34m(\u001b[0m\u001b[0msegments\u001b[0m\u001b[0;34m,\u001b[0m \u001b[0mmodulated_beat_list\u001b[0m\u001b[0;34m)\u001b[0m\u001b[0;34m\u001b[0m\u001b[0;34m\u001b[0m\u001b[0m\n\u001b[1;32m    674\u001b[0m     \u001b[0mpreds\u001b[0m \u001b[0;34m=\u001b[0m \u001b[0msegment_predictions\u001b[0m\u001b[0;34m(\u001b[0m\u001b[0msegments_df\u001b[0m\u001b[0;34m,\u001b[0m \u001b[0mMC\u001b[0m\u001b[0;34m)\u001b[0m\u001b[0;34m\u001b[0m\u001b[0;34m\u001b[0m\u001b[0m\n",
      "\u001b[0;32m~/BMS_testing/src/beatmapsynth.py\u001b[0m in \u001b[0;36mamplitude_rate_modulation\u001b[0;34m(y, sr, difficulty)\u001b[0m\n\u001b[1;32m    603\u001b[0m             \u001b[0mmaxdiff\u001b[0m \u001b[0;34m=\u001b[0m \u001b[0;36m2\u001b[0m\u001b[0;34m\u001b[0m\u001b[0;34m\u001b[0m\u001b[0m\n\u001b[1;32m    604\u001b[0m         \u001b[0;32mwhile\u001b[0m \u001b[0mdiff\u001b[0m \u001b[0;34m>\u001b[0m \u001b[0mmaxdiff\u001b[0m\u001b[0;34m:\u001b[0m\u001b[0;34m\u001b[0m\u001b[0;34m\u001b[0m\u001b[0m\n\u001b[0;32m--> 605\u001b[0;31m             \u001b[0mrate\u001b[0m \u001b[0;34m=\u001b[0m \u001b[0mchoose_rate\u001b[0m\u001b[0;34m(\u001b[0m\u001b[0mnp\u001b[0m\u001b[0;34m.\u001b[0m\u001b[0mmean\u001b[0m\u001b[0;34m(\u001b[0m\u001b[0;34m[\u001b[0m\u001b[0mavg_beat_db\u001b[0m\u001b[0;34m.\u001b[0m\u001b[0miloc\u001b[0m\u001b[0;34m[\u001b[0m\u001b[0mcounter\u001b[0m\u001b[0;34m-\u001b[0m\u001b[0;36m1\u001b[0m\u001b[0;34m]\u001b[0m\u001b[0;34m,\u001b[0m \u001b[0mavg_beat_db\u001b[0m\u001b[0;34m.\u001b[0m\u001b[0miloc\u001b[0m\u001b[0;34m[\u001b[0m\u001b[0mcounter\u001b[0m\u001b[0;34m]\u001b[0m\u001b[0;34m,\u001b[0m \u001b[0mavg_beat_db\u001b[0m\u001b[0;34m.\u001b[0m\u001b[0miloc\u001b[0m\u001b[0;34m[\u001b[0m\u001b[0mcounter\u001b[0m\u001b[0;34m+\u001b[0m\u001b[0;36m1\u001b[0m\u001b[0;34m]\u001b[0m\u001b[0;34m]\u001b[0m\u001b[0;34m)\u001b[0m\u001b[0;34m,\u001b[0m \u001b[0mdifficulty\u001b[0m\u001b[0;34m)\u001b[0m\u001b[0;34m\u001b[0m\u001b[0;34m\u001b[0m\u001b[0m\n\u001b[0m\u001b[1;32m    606\u001b[0m             \u001b[0mdiff\u001b[0m \u001b[0;34m=\u001b[0m \u001b[0mrates\u001b[0m\u001b[0;34m[\u001b[0m\u001b[0;34m-\u001b[0m\u001b[0;36m1\u001b[0m\u001b[0;34m]\u001b[0m \u001b[0;34m-\u001b[0m \u001b[0mrate\u001b[0m\u001b[0;34m\u001b[0m\u001b[0;34m\u001b[0m\u001b[0m\n\u001b[1;32m    607\u001b[0m         \u001b[0;32mif\u001b[0m \u001b[0mrate\u001b[0m \u001b[0;34m==\u001b[0m \u001b[0;36m4\u001b[0m \u001b[0;32mand\u001b[0m \u001b[0mrates\u001b[0m\u001b[0;34m[\u001b[0m\u001b[0;34m-\u001b[0m\u001b[0;36m1\u001b[0m\u001b[0;34m]\u001b[0m \u001b[0;34m==\u001b[0m \u001b[0;36m4\u001b[0m\u001b[0;34m:\u001b[0m \u001b[0;31m#and rates[-2] == 4:\u001b[0m\u001b[0;34m\u001b[0m\u001b[0;34m\u001b[0m\u001b[0m\n",
      "\u001b[0;32m~/BMS_testing/src/beatmapsynth.py\u001b[0m in \u001b[0;36mchoose_rate\u001b[0;34m(db, difficulty)\u001b[0m\n\u001b[1;32m    579\u001b[0m         \u001b[0;32melse\u001b[0m\u001b[0;34m:\u001b[0m\u001b[0;34m\u001b[0m\u001b[0;34m\u001b[0m\u001b[0m\n\u001b[1;32m    580\u001b[0m             \u001b[0mp\u001b[0m \u001b[0;34m=\u001b[0m \u001b[0;34m[\u001b[0m\u001b[0;36m0\u001b[0m\u001b[0;34m,\u001b[0m \u001b[0;36m0\u001b[0m\u001b[0;34m,\u001b[0m \u001b[0;36m0\u001b[0m\u001b[0;34m,\u001b[0m \u001b[0;36m0.5\u001b[0m\u001b[0;34m,\u001b[0m \u001b[0;36m0.3\u001b[0m\u001b[0;34m,\u001b[0m \u001b[0;36m0.2\u001b[0m\u001b[0;34m]\u001b[0m\u001b[0;34m\u001b[0m\u001b[0;34m\u001b[0m\u001b[0m\n\u001b[0;32m--> 581\u001b[0;31m     \u001b[0;32mreturn\u001b[0m \u001b[0mnp\u001b[0m\u001b[0;34m.\u001b[0m\u001b[0mrandom\u001b[0m\u001b[0;34m.\u001b[0m\u001b[0mchoice\u001b[0m\u001b[0;34m(\u001b[0m\u001b[0;34m[\u001b[0m\u001b[0;36m0\u001b[0m\u001b[0;34m,\u001b[0m \u001b[0;36m1\u001b[0m\u001b[0;34m,\u001b[0m \u001b[0;36m2\u001b[0m\u001b[0;34m,\u001b[0m \u001b[0;36m4\u001b[0m\u001b[0;34m,\u001b[0m \u001b[0;36m8\u001b[0m\u001b[0;34m,\u001b[0m \u001b[0;36m16\u001b[0m\u001b[0;34m]\u001b[0m\u001b[0;34m,\u001b[0m \u001b[0mp\u001b[0m \u001b[0;34m=\u001b[0m \u001b[0mp\u001b[0m\u001b[0;34m)\u001b[0m\u001b[0;34m\u001b[0m\u001b[0;34m\u001b[0m\u001b[0m\n\u001b[0m\u001b[1;32m    582\u001b[0m \u001b[0;34m\u001b[0m\u001b[0m\n\u001b[1;32m    583\u001b[0m \u001b[0;32mdef\u001b[0m \u001b[0mamplitude_rate_modulation\u001b[0m\u001b[0;34m(\u001b[0m\u001b[0my\u001b[0m\u001b[0;34m,\u001b[0m \u001b[0msr\u001b[0m\u001b[0;34m,\u001b[0m \u001b[0mdifficulty\u001b[0m\u001b[0;34m)\u001b[0m\u001b[0;34m:\u001b[0m\u001b[0;34m\u001b[0m\u001b[0;34m\u001b[0m\u001b[0m\n",
      "\u001b[0;31mKeyboardInterrupt\u001b[0m: "
     ]
    }
   ],
   "source": [
    "model_based_maps(files)"
   ]
  },
  {
   "cell_type": "code",
   "execution_count": null,
   "metadata": {},
   "outputs": [],
   "source": []
  }
 ],
 "metadata": {
  "kernelspec": {
   "display_name": "Python 3.6.9 64-bit ('BSMapSynth-env': conda)",
   "language": "python",
   "name": "python36964bitbsmapsynthenvconda13e77a131ab249d0905cca83e6a4f89f"
  },
  "language_info": {
   "codemirror_mode": {
    "name": "ipython",
    "version": 3
   },
   "file_extension": ".py",
   "mimetype": "text/x-python",
   "name": "python",
   "nbconvert_exporter": "python",
   "pygments_lexer": "ipython3",
   "version": "3.6.9"
  }
 },
 "nbformat": 4,
 "nbformat_minor": 4
}
